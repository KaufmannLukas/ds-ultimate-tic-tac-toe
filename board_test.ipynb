{
 "cells": [
  {
   "cell_type": "code",
   "execution_count": 1,
   "metadata": {},
   "outputs": [],
   "source": [
    "import numpy as np\n"
   ]
  },
  {
   "cell_type": "code",
   "execution_count": 21,
   "metadata": {},
   "outputs": [
    {
     "data": {
      "text/plain": [
       "array([[(0, 0), (0, 1), (0, 2), (0, 3), (0, 4), (0, 5), (0, 6), (0, 7),\n",
       "        (0, 8)],\n",
       "       [(1, 0), (1, 1), (1, 2), (1, 3), (1, 4), (1, 5), (1, 6), (1, 7),\n",
       "        (1, 8)],\n",
       "       [(2, 0), (2, 1), (2, 2), (2, 3), (2, 4), (2, 5), (2, 6), (2, 7),\n",
       "        (2, 8)],\n",
       "       [(3, 0), (3, 1), (3, 2), (3, 3), (3, 4), (3, 5), (3, 6), (3, 7),\n",
       "        (3, 8)],\n",
       "       [(4, 0), (4, 1), (4, 2), (4, 3), (4, 4), (4, 5), (4, 6), (4, 7),\n",
       "        (4, 8)],\n",
       "       [(5, 0), (5, 1), (5, 2), (5, 3), (5, 4), (5, 5), (5, 6), (5, 7),\n",
       "        (5, 8)],\n",
       "       [(6, 0), (6, 1), (6, 2), (6, 3), (6, 4), (6, 5), (6, 6), (6, 7),\n",
       "        (6, 8)],\n",
       "       [(7, 0), (7, 1), (7, 2), (7, 3), (7, 4), (7, 5), (7, 6), (7, 7),\n",
       "        (7, 8)],\n",
       "       [(8, 0), (8, 1), (8, 2), (8, 3), (8, 4), (8, 5), (8, 6), (8, 7),\n",
       "        (8, 8)]], dtype=[('first', 'i1'), ('second', 'i1')])"
      ]
     },
     "execution_count": 21,
     "metadata": {},
     "output_type": "execute_result"
    }
   ],
   "source": [
    "board_index = np.ndarray([9, 9],dtype=[('first', 'int8'), ('second', 'int8')], )\n",
    "for i in range(9):\n",
    "    for j in range(9):\n",
    "        board_index[i][j] = (i, j)\n",
    "board_index"
   ]
  },
  {
   "cell_type": "code",
   "execution_count": 22,
   "metadata": {},
   "outputs": [
    {
     "data": {
      "text/plain": [
       "array([[(0, 0), (0, 1), (0, 2), (0, 3), (0, 4), (0, 5), (0, 6), (0, 7),\n",
       "        (0, 8)],\n",
       "       [(1, 0), (1, 1), (1, 2), (1, 3), (1, 4), (1, 5), (1, 6), (1, 7),\n",
       "        (1, 8)],\n",
       "       [(2, 0), (2, 1), (2, 2), (2, 3), (2, 4), (2, 5), (2, 6), (2, 7),\n",
       "        (2, 8)],\n",
       "       [(3, 0), (3, 1), (3, 2), (3, 3), (3, 4), (3, 5), (3, 6), (3, 7),\n",
       "        (3, 8)],\n",
       "       [(4, 0), (4, 1), (4, 2), (4, 3), (4, 4), (4, 5), (4, 6), (4, 7),\n",
       "        (4, 8)],\n",
       "       [(5, 0), (5, 1), (5, 2), (5, 3), (5, 4), (5, 5), (5, 6), (5, 7),\n",
       "        (5, 8)],\n",
       "       [(6, 0), (6, 1), (6, 2), (6, 3), (6, 4), (6, 5), (6, 6), (6, 7),\n",
       "        (6, 8)],\n",
       "       [(7, 0), (7, 1), (7, 2), (7, 3), (7, 4), (7, 5), (7, 6), (7, 7),\n",
       "        (7, 8)],\n",
       "       [(8, 0), (8, 1), (8, 2), (8, 3), (8, 4), (8, 5), (8, 6), (8, 7),\n",
       "        (8, 8)]], dtype=[('first', 'i1'), ('second', 'i1')])"
      ]
     },
     "execution_count": 22,
     "metadata": {},
     "output_type": "execute_result"
    }
   ],
   "source": [
    "board_index"
   ]
  },
  {
   "cell_type": "code",
   "execution_count": 6,
   "metadata": {},
   "outputs": [
    {
     "data": {
      "text/plain": [
       "array([[[False, False, False, False, False, False, False,  True, False],\n",
       "        [False, False, False, False, False, False,  True,  True, False],\n",
       "        [False, False, False, False, False, False, False, False, False]],\n",
       "\n",
       "       [[False, False, False, False, False, False, False, False, False],\n",
       "        [ True,  True, False, False,  True,  True,  True,  True,  True],\n",
       "        [ True,  True,  True,  True,  True,  True,  True,  True,  True]],\n",
       "\n",
       "       [[ True,  True,  True,  True,  True,  True,  True,  True,  True],\n",
       "        [ True,  True,  True,  True,  True,  True,  True,  True,  True],\n",
       "        [ True,  True,  True,  True,  True,  True, False, False, False]]])"
      ]
     },
     "execution_count": 6,
     "metadata": {},
     "output_type": "execute_result"
    }
   ],
   "source": [
    "board"
   ]
  },
  {
   "cell_type": "code",
   "execution_count": 40,
   "metadata": {},
   "outputs": [
    {
     "name": "stdout",
     "output_type": "stream",
     "text": [
      "[[ 1  2  3  4  5  6  7  8  9]\n",
      " [10 11 12 13 14 15 16 17 18]\n",
      " [19 20 21 22 23 24 25 26 27]\n",
      " [28 29 30 31 32 33 34 35 36]\n",
      " [37 38 39 40 41 42 43 44 45]\n",
      " [46 47 48 49 50 51 52 53 54]\n",
      " [55 56 57 58 59 60 61 62 63]\n",
      " [64 65 66 67 68 69 70 71 72]\n",
      " [73 74 75 76 77 78 79 80 81]]\n",
      "[[[[ 1  2  3]\n",
      "   [ 4  5  6]\n",
      "   [ 7  8  9]]\n",
      "\n",
      "  [[10 11 12]\n",
      "   [13 14 15]\n",
      "   [16 17 18]]\n",
      "\n",
      "  [[19 20 21]\n",
      "   [22 23 24]\n",
      "   [25 26 27]]]\n",
      "\n",
      "\n",
      " [[[28 29 30]\n",
      "   [31 32 33]\n",
      "   [34 35 36]]\n",
      "\n",
      "  [[37 38 39]\n",
      "   [40 41 42]\n",
      "   [43 44 45]]\n",
      "\n",
      "  [[46 47 48]\n",
      "   [49 50 51]\n",
      "   [52 53 54]]]\n",
      "\n",
      "\n",
      " [[[55 56 57]\n",
      "   [58 59 60]\n",
      "   [61 62 63]]\n",
      "\n",
      "  [[64 65 66]\n",
      "   [67 68 69]\n",
      "   [70 71 72]]\n",
      "\n",
      "  [[73 74 75]\n",
      "   [76 77 78]\n",
      "   [79 80 81]]]]\n",
      "[[ 1  2  3 10 11 12 19 20 21]\n",
      " [ 4  5  6 13 14 15 22 23 24]\n",
      " [ 7  8  9 16 17 18 25 26 27]\n",
      " [28 29 30 37 38 39 46 47 48]\n",
      " [31 32 33 40 41 42 49 50 51]\n",
      " [34 35 36 43 44 45 52 53 54]\n",
      " [55 56 57 64 65 66 73 74 75]\n",
      " [58 59 60 67 68 69 76 77 78]\n",
      " [61 62 63 70 71 72 79 80 81]]\n"
     ]
    }
   ],
   "source": [
    "import numpy as np\n",
    "\n",
    "# 9 games with 9 fields\n",
    "game = np.arange(1, 82).reshape((9, 9))\n",
    "\n",
    "# 3x3x9-Array reshape\n",
    "reshaped = game.reshape(3, 3, 3, 3)\n",
    "\n",
    "# reorder axis\n",
    "board_index = reshaped.transpose(0, 2, 1, 3).reshape(9, 9)\n",
    "print(game)\n",
    "print(reshaped)\n",
    "print(board_index)\n"
   ]
  },
  {
   "cell_type": "code",
   "execution_count": 41,
   "metadata": {},
   "outputs": [],
   "source": [
    "# Create a mapping dictionary\n",
    "mapping = {}\n",
    "for i in range(9):\n",
    "    for j in range(9):\n",
    "        mapping[(i, j)] = (i // 3 * 3 + j // 3, i % 3 * 3 + j % 3)\n"
   ]
  },
  {
   "cell_type": "code",
   "execution_count": 44,
   "metadata": {},
   "outputs": [
    {
     "data": {
      "text/plain": [
       "11"
      ]
     },
     "execution_count": 44,
     "metadata": {},
     "output_type": "execute_result"
    }
   ],
   "source": [
    "game[mapping[(0, 4)]]"
   ]
  },
  {
   "cell_type": "code",
   "execution_count": 42,
   "metadata": {},
   "outputs": [
    {
     "data": {
      "text/plain": [
       "{(0, 0): (0, 0),\n",
       " (0, 1): (0, 1),\n",
       " (0, 2): (0, 2),\n",
       " (0, 3): (1, 0),\n",
       " (0, 4): (1, 1),\n",
       " (0, 5): (1, 2),\n",
       " (0, 6): (2, 0),\n",
       " (0, 7): (2, 1),\n",
       " (0, 8): (2, 2),\n",
       " (1, 0): (0, 3),\n",
       " (1, 1): (0, 4),\n",
       " (1, 2): (0, 5),\n",
       " (1, 3): (1, 3),\n",
       " (1, 4): (1, 4),\n",
       " (1, 5): (1, 5),\n",
       " (1, 6): (2, 3),\n",
       " (1, 7): (2, 4),\n",
       " (1, 8): (2, 5),\n",
       " (2, 0): (0, 6),\n",
       " (2, 1): (0, 7),\n",
       " (2, 2): (0, 8),\n",
       " (2, 3): (1, 6),\n",
       " (2, 4): (1, 7),\n",
       " (2, 5): (1, 8),\n",
       " (2, 6): (2, 6),\n",
       " (2, 7): (2, 7),\n",
       " (2, 8): (2, 8),\n",
       " (3, 0): (3, 0),\n",
       " (3, 1): (3, 1),\n",
       " (3, 2): (3, 2),\n",
       " (3, 3): (4, 0),\n",
       " (3, 4): (4, 1),\n",
       " (3, 5): (4, 2),\n",
       " (3, 6): (5, 0),\n",
       " (3, 7): (5, 1),\n",
       " (3, 8): (5, 2),\n",
       " (4, 0): (3, 3),\n",
       " (4, 1): (3, 4),\n",
       " (4, 2): (3, 5),\n",
       " (4, 3): (4, 3),\n",
       " (4, 4): (4, 4),\n",
       " (4, 5): (4, 5),\n",
       " (4, 6): (5, 3),\n",
       " (4, 7): (5, 4),\n",
       " (4, 8): (5, 5),\n",
       " (5, 0): (3, 6),\n",
       " (5, 1): (3, 7),\n",
       " (5, 2): (3, 8),\n",
       " (5, 3): (4, 6),\n",
       " (5, 4): (4, 7),\n",
       " (5, 5): (4, 8),\n",
       " (5, 6): (5, 6),\n",
       " (5, 7): (5, 7),\n",
       " (5, 8): (5, 8),\n",
       " (6, 0): (6, 0),\n",
       " (6, 1): (6, 1),\n",
       " (6, 2): (6, 2),\n",
       " (6, 3): (7, 0),\n",
       " (6, 4): (7, 1),\n",
       " (6, 5): (7, 2),\n",
       " (6, 6): (8, 0),\n",
       " (6, 7): (8, 1),\n",
       " (6, 8): (8, 2),\n",
       " (7, 0): (6, 3),\n",
       " (7, 1): (6, 4),\n",
       " (7, 2): (6, 5),\n",
       " (7, 3): (7, 3),\n",
       " (7, 4): (7, 4),\n",
       " (7, 5): (7, 5),\n",
       " (7, 6): (8, 3),\n",
       " (7, 7): (8, 4),\n",
       " (7, 8): (8, 5),\n",
       " (8, 0): (6, 6),\n",
       " (8, 1): (6, 7),\n",
       " (8, 2): (6, 8),\n",
       " (8, 3): (7, 6),\n",
       " (8, 4): (7, 7),\n",
       " (8, 5): (7, 8),\n",
       " (8, 6): (8, 6),\n",
       " (8, 7): (8, 7),\n",
       " (8, 8): (8, 8)}"
      ]
     },
     "execution_count": 42,
     "metadata": {},
     "output_type": "execute_result"
    }
   ],
   "source": [
    "mapping"
   ]
  },
  {
   "cell_type": "code",
   "execution_count": 36,
   "metadata": {},
   "outputs": [
    {
     "name": "stdout",
     "output_type": "stream",
     "text": [
      "\n",
      "1\t2\t3\t4\t5\t6\t7\t8\t9\t\n",
      "10\t11\t12\t13\t14\t15\t16\t17\t18\t\n",
      "19\t20\t21\t99\t23\t24\t25\t26\t27\t\n",
      "28\t29\t30\t31\t32\t33\t34\t35\t36\t\n",
      "37\t38\t39\t40\t41\t42\t43\t44\t45\t\n",
      "46\t47\t48\t49\t50\t51\t52\t53\t54\t\n",
      "55\t56\t57\t58\t59\t60\t61\t62\t63\t\n",
      "64\t65\t66\t67\t68\t69\t70\t71\t72\t\n",
      "73\t74\t75\t76\t77\t78\t79\t80\t81\t"
     ]
    }
   ],
   "source": [
    "for i in range(9):\n",
    "    print(\"\")\n",
    "    for j in range(9):\n",
    "        print(spielfeld[i, j], end=\"\\t\")"
   ]
  },
  {
   "cell_type": "code",
   "execution_count": 37,
   "metadata": {},
   "outputs": [
    {
     "name": "stdout",
     "output_type": "stream",
     "text": [
      "\n",
      "1\t2\t3\t10\t11\t12\t19\t20\t21\t\n",
      "4\t5\t6\t13\t14\t15\t22\t23\t24\t\n",
      "7\t8\t9\t16\t17\t18\t25\t26\t27\t\n",
      "28\t29\t30\t37\t38\t39\t46\t47\t48\t\n",
      "31\t32\t33\t40\t41\t42\t49\t50\t51\t\n",
      "34\t35\t36\t43\t44\t45\t52\t53\t54\t\n",
      "55\t56\t57\t64\t65\t66\t73\t74\t75\t\n",
      "58\t59\t60\t67\t68\t69\t76\t77\t78\t\n",
      "61\t62\t63\t70\t71\t72\t79\t80\t81\t"
     ]
    }
   ],
   "source": [
    "for i in range(9):\n",
    "    print(\"\")\n",
    "    for j in range(9):\n",
    "        print(final_reshape[i, j], end=\"\\t\")"
   ]
  },
  {
   "cell_type": "code",
   "execution_count": 34,
   "metadata": {},
   "outputs": [],
   "source": [
    "spielfeld[2, 3] = 99"
   ]
  },
  {
   "cell_type": "code",
   "execution_count": 347,
   "metadata": {},
   "outputs": [],
   "source": [
    "class Game:\n",
    "    WINNING_COMBINATIONS = np.array([\n",
    "        # rows\n",
    "        [True, True, True, False, False, False, False, False, False],\n",
    "        [False, False, False, True, True, True, False, False, False],\n",
    "        [False, False, False, False, False, False, True, True, True],\n",
    "        # columns\n",
    "        [True, False, False, True, False, False, True, False, False],\n",
    "        [False, True, False, False, True, False, False, True, False],\n",
    "        [False, False, True, False, False, True, False, False, True],\n",
    "        # diagonals\n",
    "        [False, False, True, False, True, False, True, False, False],\n",
    "        [True, False, False, False, True, False, False, False, True],\n",
    "    ])\n",
    "\n",
    "\n",
    "    class _Player:\n",
    "        def __init__(self, color):\n",
    "            self.history = []\n",
    "            self.board = np.zeros((9,9), dtype=bool)\n",
    "            self.wins = np.zeros((9,), dtype=bool)\n",
    "            self.color = color\n",
    "\n",
    "\n",
    "    def __init__(self):\n",
    "        self.white = Game._Player(\"white\") # white is O and starts\n",
    "        self.black = Game._Player(\"black\") # black is X\n",
    "    \n",
    "\n",
    "    @property\n",
    "    def current_player(self):\n",
    "        if len(self.white.history) == len(self.black.history):\n",
    "            return self.white\n",
    "        return self.black\n",
    "    \n",
    "\n",
    "    @property\n",
    "    def last_move(self):\n",
    "        if not self.white.history and not self.black.history:\n",
    "            return None\n",
    "        if len(self.white.history) == len(self.black.history):\n",
    "            return self.black.history[-1]\n",
    "        else:\n",
    "            return self.white.history[-1]\n",
    "\n",
    "    \n",
    "    @property\n",
    "    def blocked_fields(self):\n",
    "        if self.last_move is None:\n",
    "            return np.zeros((9, 9), dtype=bool)\n",
    "\n",
    "        blocked_fields = self.white.board | self.black.board\n",
    "        finished_games = (self.white.wins | self.black.wins)[:, np.newaxis] * np.ones((9, 9), dtype=bool)\n",
    "        blocked_fields = blocked_fields | finished_games\n",
    "        \n",
    "        # if a whole game is blocked, return the rest of the games as free\n",
    "        if all(blocked_fields[self.last_move[1]]):\n",
    "            return blocked_fields\n",
    "        \n",
    "        blocked_games = np.ones((9,9), dtype=bool)\n",
    "        blocked_games[self.last_move[1]] = np.zeros((9,), dtype=bool)\n",
    "\n",
    "        blocked_fields = blocked_fields | blocked_games\n",
    "        return blocked_fields\n",
    "\n",
    "\n",
    "\n",
    "    def check_valid_move(self, game_idx, field_idx):\n",
    "        return not self.blocked_fields[game_idx, field_idx]\n",
    "\n",
    "\n",
    "    def check_win(board):\n",
    "        '''\n",
    "        Get a 3x3 board and checks if there is a winning combination hit.\n",
    "        '''\n",
    "        win_combs = Game.WINNING_COMBINATIONS # get all combinations to win a game\n",
    "        win_mask = win_combs & board # get just the moves that hits a winning combination\n",
    "        win_list = np.all(win_mask == win_combs, axis=1) # check if all hits for a winning combination were made\n",
    "        return np.any(win_list) # determine if a winning combination was hit\n",
    "    \n",
    "\n",
    "    def play(self, game_idx, field_idx):\n",
    "        if not self.check_valid_move(game_idx, field_idx):\n",
    "            raise ValueError(f\"You tried to play on a blocked field ({game_idx}, {field_idx})!\")\n",
    "        \n",
    "        current_player = self.current_player\n",
    "        current_player.history.append((game_idx, field_idx))\n",
    "        current_player.board[game_idx, field_idx] = True\n",
    "\n",
    "        # if self.black.wins[game_idx] == True or self.white.wins[game_idx] == True:\n",
    "        #     return None\n",
    "\n",
    "        if Game.check_win(current_player.board[game_idx]):\n",
    "            current_player.wins[game_idx] = True\n",
    "            print(f\"{current_player.color} wins local game {game_idx}\")\n",
    "            if Game.check_win(current_player.wins):\n",
    "                print(f\"{current_player.color} wins global game\") # TODO: what do we make with wins?\n",
    "\n",
    "\n",
    "    def _reshape_board(board):\n",
    "        # 3x3x9-Array reshape\n",
    "        reshaped = board.reshape(3, 3, 3, 3)\n",
    "\n",
    "        # reorder axis\n",
    "        return reshaped.transpose(0, 2, 1, 3).reshape(9, 9)\n",
    "\n",
    "\n",
    "    def __repr__(self):\n",
    "        game = np.zeros((9, 9))\n",
    "        game[self.black.board] = -1\n",
    "        game[self.white.board] = 1\n",
    "        reshaped_board = Game._reshape_board(game)\n",
    "\n",
    "        blocked_fields = Game._reshape_board(self.blocked_fields)\n",
    "        \n",
    "        rows = []\n",
    "        for i in range(9):\n",
    "\n",
    "            row = []\n",
    "            for j in range(9):\n",
    "                if j in (3, 6):\n",
    "                    row.append(\" \")\n",
    "                match int(reshaped_board[i, j]):\n",
    "                    case 1:\n",
    "                        row.append(\"X\")\n",
    "                    case -1:\n",
    "                        row.append(\"O\")\n",
    "                    case 0:\n",
    "                        if blocked_fields[i, j]:\n",
    "                            row.append(\"·\")\n",
    "                        else:\n",
    "                            row.append(\"•\")\n",
    "            if i in (3, 6):\n",
    "                rows.append(\"\\n\")\n",
    "            rows.append(\"  \".join(row) + \"\\n\")\n",
    "\n",
    "        repr = \"\".join(rows)\n",
    "\n",
    "        # reorder axis\n",
    "        return repr"
   ]
  },
  {
   "cell_type": "code",
   "execution_count": 348,
   "metadata": {},
   "outputs": [
    {
     "name": "stdout",
     "output_type": "stream",
     "text": [
      "white wins local game 4\n",
      "black wins local game 7\n",
      "white wins local game 8\n",
      "(2, 4)\n",
      "black\n"
     ]
    },
    {
     "data": {
      "text/plain": [
       "O  •  •     •  •  O     •  •  •\n",
       "•  X  •     •  O  •     •  X  •\n",
       "X  •  X     •  •  •     O  •  •\n",
       "\n",
       "•  •  •     ·  X  ·     •  •  •\n",
       "•  •  •     ·  X  ·     •  •  •\n",
       "•  •  •     O  X  ·     •  •  •\n",
       "\n",
       "•  •  •     O  ·  ·     X  X  X\n",
       "•  O  •     ·  O  ·     ·  ·  ·\n",
       "X  X  O     ·  ·  O     ·  ·  O"
      ]
     },
     "execution_count": 348,
     "metadata": {},
     "output_type": "execute_result"
    }
   ],
   "source": [
    "game_1 = Game()\n",
    "game_1.play(4, 4)\n",
    "game_1.play(4, 6)\n",
    "game_1.play(6, 7)\n",
    "game_1.last_move\n",
    "#game_1.get_blocked_fields()\n",
    "game_1.play(7, 4)\n",
    "game_1.play(4, 1)\n",
    "game_1.play(1, 4)\n",
    "game_1.play(4, 7)\n",
    "game_1.play(7, 0)\n",
    "game_1.play(0, 4)\n",
    "game_1.play(7, 8)\n",
    "game_1.play(8, 0)\n",
    "game_1.play(0, 0)\n",
    "game_1.play(0, 6)\n",
    "game_1.play(6, 4)\n",
    "game_1.play(0, 8)\n",
    "game_1.play(8, 8)\n",
    "game_1.play(8, 2)\n",
    "game_1.play(2, 6)\n",
    "game_1.play(6, 6)\n",
    "game_1.play(6, 8)\n",
    "game_1.play(8, 1)\n",
    "game_1.play(1, 2)\n",
    "game_1.play(2, 4)\n",
    "# game_1.play(3, 4)\n",
    "# game_1.play(0, 7)\n",
    "\n",
    "\n",
    "\n",
    "print(game_1.last_move)\n",
    "print(game_1.current_player.color)\n",
    "game_1"
   ]
  }
 ],
 "metadata": {
  "kernelspec": {
   "display_name": "ds-bootcamp",
   "language": "python",
   "name": "python3"
  },
  "language_info": {
   "codemirror_mode": {
    "name": "ipython",
    "version": 3
   },
   "file_extension": ".py",
   "mimetype": "text/x-python",
   "name": "python",
   "nbconvert_exporter": "python",
   "pygments_lexer": "ipython3",
   "version": "3.10.13"
  }
 },
 "nbformat": 4,
 "nbformat_minor": 2
}
