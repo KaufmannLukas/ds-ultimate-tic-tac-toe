{
 "cells": [
  {
   "cell_type": "code",
   "execution_count": 20,
   "metadata": {},
   "outputs": [],
   "source": [
    "import pandas as pd\n",
    "import matplotlib.pyplot as plt\n",
    "import seaborn as sns\n",
    "import numpy as np"
   ]
  },
  {
   "cell_type": "markdown",
   "metadata": {},
   "source": []
  },
  {
   "cell_type": "code",
   "execution_count": 21,
   "metadata": {},
   "outputs": [],
   "source": [
    "# MCTS\n",
    "mcts_10 = pd.read_csv(\"data/random_vs_mcts_10.csv\")\n",
    "mcts_20 = pd.read_csv(\"data/random_vs_mcts_20.csv\")\n",
    "mcts_50 = pd.read_csv(\"data/random_vs_mcts_50.csv\")\n",
    "mcts_100 = pd.read_csv(\"data/random_vs_mcts_100.csv\")\n",
    "mcts_500 = pd.read_csv(\"data/random_vs_mcts_500.csv\")\n",
    "mcts_1000 = pd.read_csv(\"data/random_vs_mcts_1000.csv\")\n",
    "mcts_2000 = pd.read_csv(\"data/random_vs_mcts_2000.csv\")\n",
    "\n",
    "\n",
    "\n",
    "\n"
   ]
  },
  {
   "cell_type": "code",
   "execution_count": 22,
   "metadata": {},
   "outputs": [],
   "source": [
    "#MCTS with memory\n",
    "mcts_1000_memory = pd.read_csv(\"data/random_vs_mcts_1000_memory_1.csv\")\n",
    "mcts_mcts_01_1000 = pd.read_csv(\"data/mcts_no_mem_vs_mcts_agent_01_1000.csv\")\n",
    "mcts_mcts_01_1000_2_1000_games = pd.read_csv(\"data/mcts_no_mem_vs_mcts_agent_01_2_1000.csv\")\n",
    "mcts_mcts_02_1000 = pd.read_csv(\"data/mcts_no_mem_vs_mcts_agent_02_1_1000.csv\")\n",
    "mcts_mcts_02_1000_2 = pd.read_csv(\"data/mcts_no_mem_vs_mcts_agent_02_2_1000.csv\")\n",
    "mcts_mcts_02_1000_3 = pd.read_csv(\"data/mcts_no_mem_vs_mcts_agent_02_3_1000.csv\")"
   ]
  },
  {
   "cell_type": "code",
   "execution_count": 23,
   "metadata": {},
   "outputs": [],
   "source": [
    "#PPO\n",
    "ppo_random_01_1000000 = pd.read_csv(\"data/random_vs_ppo_v1_1000000.csv\")\n",
    "ppo_random_02_100000 = pd.read_csv(\"data/random_vs_ppo_v2_100000.csv\")\n",
    "#ppo_random_02_1000000 = pd.read_csv(\"data/random_vs_ppo_v2_1000000.csv\")\n",
    "ppo_random_03_75000000 = pd.read_csv(\"data/random_vs_ppo_v3_75_000_000_fin.csv\")\n",
    "ppo_random_04 = pd.read_csv(\"data/random_vs_ppo_v4.csv\")\n",
    "ppo_random_04_2 = pd.read_csv(\"data/random_vs_ppo_v4_2.csv\")\n"
   ]
  },
  {
   "cell_type": "code",
   "execution_count": null,
   "metadata": {},
   "outputs": [],
   "source": []
  },
  {
   "cell_type": "code",
   "execution_count": 24,
   "metadata": {},
   "outputs": [],
   "source": [
    "#PPO with mcts\n",
    "\n",
    "ppo_plus_vs_random = pd.read_csv(\"data/ppo_plus_vs_random_100_games.csv\")\n",
    "ppo_plus_vs_mcts_with_mem = pd.read_csv(\"data/ppo_plus_vs_mcts_1000_with_memory.csv\")\n",
    "ppo_plus_vs_mcts_1000 = pd.read_csv(\"data/ppo_plus_vs_mcts_1000.csv\")"
   ]
  },
  {
   "cell_type": "code",
   "execution_count": 25,
   "metadata": {},
   "outputs": [],
   "source": [
    "# Create a new column for RL\n",
    "mcts_2000[\"RL Methods\"] = \"MCTS\"\n",
    "mcts_1000_memory[\"RL Methods\"] = \"MCTS (Memory)\""
   ]
  },
  {
   "cell_type": "code",
   "execution_count": 26,
   "metadata": {},
   "outputs": [],
   "source": [
    "#rename coloumn name colors\n",
    "mcts_10.rename(columns={'mcts_color': 'color'}, inplace=True)\n",
    "mcts_100.rename(columns={'mcts_color': 'color'}, inplace=True)\n",
    "mcts_1000.rename(columns={'mcts_color': 'color'}, inplace=True)\n",
    "mcts_2000.rename(columns={'mcts_color': 'color'}, inplace=True)\n",
    "mcts_1000_memory.rename(columns={'mcts_color': 'color'}, inplace=True)\n",
    "ppo_random_01_1000000.rename(columns={'ppo_color': 'color'}, inplace=True)\n",
    "ppo_plus_vs_random.rename(columns={'ppo_color': 'color'}, inplace=True)\n",
    "ppo_plus_vs_mcts_1000.rename(columns={'ppo_color': 'color'}, inplace=True)\n",
    "ppo_plus_vs_mcts_with_mem.rename(columns={'ppo_color': 'color'}, inplace=True)\n"
   ]
  },
  {
   "cell_type": "code",
   "execution_count": 27,
   "metadata": {},
   "outputs": [],
   "source": [
    "# Create a new column for general overview\n",
    "mcts_10[\"RL Methods\"] = \"MCTS (10)\"\n",
    "mcts_100[\"RL Methods\"] = \"MCTS (100)\"\n",
    "mcts_1000[\"RL Methods\"] = \"MCTS (1000)\"\n",
    "mcts_2000[\"RL Methods\"] = \"MCTS (2000)\"\n",
    "mcts_1000_memory[\"RL Methods\"] = \"MCTS (Memory)\"\n",
    "ppo_random_01_1000000[\"RL Methods\"] = \"PPO\"\n",
    "ppo_plus_vs_random[\"RL Methods\"] = \"PPO+MCTS\"\n",
    "\n",
    "\n",
    "#mcts_1000_memory[\"RL Methods\"] = \"PPO with MCTS\"\n"
   ]
  },
  {
   "cell_type": "code",
   "execution_count": 28,
   "metadata": {},
   "outputs": [],
   "source": [
    "ppo_plus_vs_mcts_1000[\"RL Methods\"] = \"PPO+MCTS\"\n",
    "ppo_plus_vs_mcts_with_mem[\"RL Methods\"] = \"PPO+MCTS\""
   ]
  },
  {
   "cell_type": "code",
   "execution_count": 10,
   "metadata": {},
   "outputs": [
    {
     "data": {
      "text/html": [
       "<div>\n",
       "<style scoped>\n",
       "    .dataframe tbody tr th:only-of-type {\n",
       "        vertical-align: middle;\n",
       "    }\n",
       "\n",
       "    .dataframe tbody tr th {\n",
       "        vertical-align: top;\n",
       "    }\n",
       "\n",
       "    .dataframe thead th {\n",
       "        text-align: right;\n",
       "    }\n",
       "</style>\n",
       "<table border=\"1\" class=\"dataframe\">\n",
       "  <thead>\n",
       "    <tr style=\"text-align: right;\">\n",
       "      <th></th>\n",
       "      <th>Unnamed: 0</th>\n",
       "      <th>game_nr</th>\n",
       "      <th>color</th>\n",
       "      <th>winner</th>\n",
       "      <th>RL Methods</th>\n",
       "    </tr>\n",
       "  </thead>\n",
       "  <tbody>\n",
       "    <tr>\n",
       "      <th>0</th>\n",
       "      <td>0</td>\n",
       "      <td>0</td>\n",
       "      <td>white (X)</td>\n",
       "      <td>white (X)</td>\n",
       "      <td>PPO</td>\n",
       "    </tr>\n",
       "    <tr>\n",
       "      <th>1</th>\n",
       "      <td>1</td>\n",
       "      <td>1</td>\n",
       "      <td>black (O)</td>\n",
       "      <td>white (X)</td>\n",
       "      <td>PPO</td>\n",
       "    </tr>\n",
       "    <tr>\n",
       "      <th>2</th>\n",
       "      <td>2</td>\n",
       "      <td>2</td>\n",
       "      <td>white (X)</td>\n",
       "      <td>black (O)</td>\n",
       "      <td>PPO</td>\n",
       "    </tr>\n",
       "    <tr>\n",
       "      <th>3</th>\n",
       "      <td>3</td>\n",
       "      <td>3</td>\n",
       "      <td>black (O)</td>\n",
       "      <td>white (X)</td>\n",
       "      <td>PPO</td>\n",
       "    </tr>\n",
       "    <tr>\n",
       "      <th>4</th>\n",
       "      <td>4</td>\n",
       "      <td>4</td>\n",
       "      <td>white (X)</td>\n",
       "      <td>white (X)</td>\n",
       "      <td>PPO</td>\n",
       "    </tr>\n",
       "  </tbody>\n",
       "</table>\n",
       "</div>"
      ],
      "text/plain": [
       "   Unnamed: 0  game_nr      color     winner RL Methods\n",
       "0           0        0  white (X)  white (X)        PPO\n",
       "1           1        1  black (O)  white (X)        PPO\n",
       "2           2        2  white (X)  black (O)        PPO\n",
       "3           3        3  black (O)  white (X)        PPO\n",
       "4           4        4  white (X)  white (X)        PPO"
      ]
     },
     "execution_count": 10,
     "metadata": {},
     "output_type": "execute_result"
    }
   ],
   "source": [
    "ppo_random_01_1000000.head()"
   ]
  },
  {
   "cell_type": "code",
   "execution_count": 11,
   "metadata": {},
   "outputs": [],
   "source": [
    "#Combining each model files at different iterations and different settings\n",
    "\n",
    "mcts = [mcts_100, mcts_500, mcts_1000, mcts_2000,]\n",
    "\n",
    "combined_mcts = pd.concat(mcts)"
   ]
  },
  {
   "cell_type": "code",
   "execution_count": 12,
   "metadata": {},
   "outputs": [
    {
     "data": {
      "text/html": [
       "<div>\n",
       "<style scoped>\n",
       "    .dataframe tbody tr th:only-of-type {\n",
       "        vertical-align: middle;\n",
       "    }\n",
       "\n",
       "    .dataframe tbody tr th {\n",
       "        vertical-align: top;\n",
       "    }\n",
       "\n",
       "    .dataframe thead th {\n",
       "        text-align: right;\n",
       "    }\n",
       "</style>\n",
       "<table border=\"1\" class=\"dataframe\">\n",
       "  <thead>\n",
       "    <tr style=\"text-align: right;\">\n",
       "      <th></th>\n",
       "      <th>Unnamed: 0</th>\n",
       "      <th>game_nr</th>\n",
       "      <th>num_iter</th>\n",
       "      <th>color</th>\n",
       "      <th>winner</th>\n",
       "      <th>RL Methods</th>\n",
       "    </tr>\n",
       "  </thead>\n",
       "  <tbody>\n",
       "    <tr>\n",
       "      <th>0</th>\n",
       "      <td>0</td>\n",
       "      <td>0</td>\n",
       "      <td>10</td>\n",
       "      <td>white (X)</td>\n",
       "      <td>white (X)</td>\n",
       "      <td>MCTS (10)</td>\n",
       "    </tr>\n",
       "    <tr>\n",
       "      <th>1</th>\n",
       "      <td>1</td>\n",
       "      <td>1</td>\n",
       "      <td>10</td>\n",
       "      <td>black (O)</td>\n",
       "      <td>black (O)</td>\n",
       "      <td>MCTS (10)</td>\n",
       "    </tr>\n",
       "    <tr>\n",
       "      <th>2</th>\n",
       "      <td>2</td>\n",
       "      <td>2</td>\n",
       "      <td>10</td>\n",
       "      <td>white (X)</td>\n",
       "      <td>NaN</td>\n",
       "      <td>MCTS (10)</td>\n",
       "    </tr>\n",
       "    <tr>\n",
       "      <th>3</th>\n",
       "      <td>3</td>\n",
       "      <td>3</td>\n",
       "      <td>10</td>\n",
       "      <td>black (O)</td>\n",
       "      <td>black (O)</td>\n",
       "      <td>MCTS (10)</td>\n",
       "    </tr>\n",
       "    <tr>\n",
       "      <th>4</th>\n",
       "      <td>4</td>\n",
       "      <td>4</td>\n",
       "      <td>10</td>\n",
       "      <td>white (X)</td>\n",
       "      <td>NaN</td>\n",
       "      <td>MCTS (10)</td>\n",
       "    </tr>\n",
       "  </tbody>\n",
       "</table>\n",
       "</div>"
      ],
      "text/plain": [
       "   Unnamed: 0  game_nr  num_iter      color     winner RL Methods\n",
       "0           0        0        10  white (X)  white (X)  MCTS (10)\n",
       "1           1        1        10  black (O)  black (O)  MCTS (10)\n",
       "2           2        2        10  white (X)        NaN  MCTS (10)\n",
       "3           3        3        10  black (O)  black (O)  MCTS (10)\n",
       "4           4        4        10  white (X)        NaN  MCTS (10)"
      ]
     },
     "execution_count": 12,
     "metadata": {},
     "output_type": "execute_result"
    }
   ],
   "source": [
    "mcts_10.head()"
   ]
  },
  {
   "cell_type": "code",
   "execution_count": 29,
   "metadata": {},
   "outputs": [],
   "source": [
    "models = [mcts_10,mcts_100,mcts_1000,mcts_2000,mcts_1000_memory,ppo_random_01_1000000,ppo_plus_vs_random]\n",
    "rl_basemodel = pd.concat(models)\n",
    "rl_basemodel.drop(\"Unnamed: 0\", axis=1, inplace=True)"
   ]
  },
  {
   "cell_type": "code",
   "execution_count": 31,
   "metadata": {},
   "outputs": [
    {
     "data": {
      "text/html": [
       "<div>\n",
       "<style scoped>\n",
       "    .dataframe tbody tr th:only-of-type {\n",
       "        vertical-align: middle;\n",
       "    }\n",
       "\n",
       "    .dataframe tbody tr th {\n",
       "        vertical-align: top;\n",
       "    }\n",
       "\n",
       "    .dataframe thead th {\n",
       "        text-align: right;\n",
       "    }\n",
       "</style>\n",
       "<table border=\"1\" class=\"dataframe\">\n",
       "  <thead>\n",
       "    <tr style=\"text-align: right;\">\n",
       "      <th></th>\n",
       "      <th>game_nr</th>\n",
       "      <th>num_iter</th>\n",
       "      <th>color</th>\n",
       "      <th>winner</th>\n",
       "      <th>RL Methods</th>\n",
       "      <th>ppo_wins</th>\n",
       "      <th>ppo_loose</th>\n",
       "      <th>draw</th>\n",
       "    </tr>\n",
       "  </thead>\n",
       "  <tbody>\n",
       "    <tr>\n",
       "      <th>0</th>\n",
       "      <td>0</td>\n",
       "      <td>10.0</td>\n",
       "      <td>white (X)</td>\n",
       "      <td>white (X)</td>\n",
       "      <td>MCTS (10)</td>\n",
       "      <td>NaN</td>\n",
       "      <td>NaN</td>\n",
       "      <td>NaN</td>\n",
       "    </tr>\n",
       "    <tr>\n",
       "      <th>1</th>\n",
       "      <td>1</td>\n",
       "      <td>10.0</td>\n",
       "      <td>black (O)</td>\n",
       "      <td>black (O)</td>\n",
       "      <td>MCTS (10)</td>\n",
       "      <td>NaN</td>\n",
       "      <td>NaN</td>\n",
       "      <td>NaN</td>\n",
       "    </tr>\n",
       "    <tr>\n",
       "      <th>2</th>\n",
       "      <td>2</td>\n",
       "      <td>10.0</td>\n",
       "      <td>white (X)</td>\n",
       "      <td>NaN</td>\n",
       "      <td>MCTS (10)</td>\n",
       "      <td>NaN</td>\n",
       "      <td>NaN</td>\n",
       "      <td>NaN</td>\n",
       "    </tr>\n",
       "    <tr>\n",
       "      <th>3</th>\n",
       "      <td>3</td>\n",
       "      <td>10.0</td>\n",
       "      <td>black (O)</td>\n",
       "      <td>black (O)</td>\n",
       "      <td>MCTS (10)</td>\n",
       "      <td>NaN</td>\n",
       "      <td>NaN</td>\n",
       "      <td>NaN</td>\n",
       "    </tr>\n",
       "    <tr>\n",
       "      <th>4</th>\n",
       "      <td>4</td>\n",
       "      <td>10.0</td>\n",
       "      <td>white (X)</td>\n",
       "      <td>NaN</td>\n",
       "      <td>MCTS (10)</td>\n",
       "      <td>NaN</td>\n",
       "      <td>NaN</td>\n",
       "      <td>NaN</td>\n",
       "    </tr>\n",
       "  </tbody>\n",
       "</table>\n",
       "</div>"
      ],
      "text/plain": [
       "   game_nr  num_iter      color     winner RL Methods  ppo_wins  ppo_loose  \\\n",
       "0        0      10.0  white (X)  white (X)  MCTS (10)       NaN        NaN   \n",
       "1        1      10.0  black (O)  black (O)  MCTS (10)       NaN        NaN   \n",
       "2        2      10.0  white (X)        NaN  MCTS (10)       NaN        NaN   \n",
       "3        3      10.0  black (O)  black (O)  MCTS (10)       NaN        NaN   \n",
       "4        4      10.0  white (X)        NaN  MCTS (10)       NaN        NaN   \n",
       "\n",
       "   draw  \n",
       "0   NaN  \n",
       "1   NaN  \n",
       "2   NaN  \n",
       "3   NaN  \n",
       "4   NaN  "
      ]
     },
     "execution_count": 31,
     "metadata": {},
     "output_type": "execute_result"
    }
   ],
   "source": [
    "rl_basemodel.head()"
   ]
  },
  {
   "cell_type": "code",
   "execution_count": 30,
   "metadata": {},
   "outputs": [],
   "source": [
    "models1 = [ppo_plus_vs_mcts_1000,]\n",
    "rl_mcts_1000 = pd.concat(models1)\n",
    "rl_mcts_1000.drop(\"Unnamed: 0\", axis=1, inplace=True)"
   ]
  },
  {
   "cell_type": "code",
   "execution_count": 33,
   "metadata": {},
   "outputs": [
    {
     "data": {
      "text/html": [
       "<div>\n",
       "<style scoped>\n",
       "    .dataframe tbody tr th:only-of-type {\n",
       "        vertical-align: middle;\n",
       "    }\n",
       "\n",
       "    .dataframe tbody tr th {\n",
       "        vertical-align: top;\n",
       "    }\n",
       "\n",
       "    .dataframe thead th {\n",
       "        text-align: right;\n",
       "    }\n",
       "</style>\n",
       "<table border=\"1\" class=\"dataframe\">\n",
       "  <thead>\n",
       "    <tr style=\"text-align: right;\">\n",
       "      <th></th>\n",
       "      <th>game_nr</th>\n",
       "      <th>color</th>\n",
       "      <th>winner</th>\n",
       "      <th>ppo_wins</th>\n",
       "      <th>ppo_loose</th>\n",
       "      <th>draw</th>\n",
       "      <th>RL Methods</th>\n",
       "    </tr>\n",
       "  </thead>\n",
       "  <tbody>\n",
       "    <tr>\n",
       "      <th>0</th>\n",
       "      <td>0</td>\n",
       "      <td>white (X)</td>\n",
       "      <td>black (O)</td>\n",
       "      <td>0</td>\n",
       "      <td>1</td>\n",
       "      <td>0</td>\n",
       "      <td>PPO+MCTS</td>\n",
       "    </tr>\n",
       "    <tr>\n",
       "      <th>1</th>\n",
       "      <td>1</td>\n",
       "      <td>black (O)</td>\n",
       "      <td>black (O)</td>\n",
       "      <td>1</td>\n",
       "      <td>0</td>\n",
       "      <td>0</td>\n",
       "      <td>PPO+MCTS</td>\n",
       "    </tr>\n",
       "    <tr>\n",
       "      <th>2</th>\n",
       "      <td>2</td>\n",
       "      <td>white (X)</td>\n",
       "      <td>white (X)</td>\n",
       "      <td>1</td>\n",
       "      <td>0</td>\n",
       "      <td>0</td>\n",
       "      <td>PPO+MCTS</td>\n",
       "    </tr>\n",
       "    <tr>\n",
       "      <th>3</th>\n",
       "      <td>3</td>\n",
       "      <td>black (O)</td>\n",
       "      <td>black (O)</td>\n",
       "      <td>1</td>\n",
       "      <td>0</td>\n",
       "      <td>0</td>\n",
       "      <td>PPO+MCTS</td>\n",
       "    </tr>\n",
       "    <tr>\n",
       "      <th>4</th>\n",
       "      <td>4</td>\n",
       "      <td>white (X)</td>\n",
       "      <td>white (X)</td>\n",
       "      <td>1</td>\n",
       "      <td>0</td>\n",
       "      <td>0</td>\n",
       "      <td>PPO+MCTS</td>\n",
       "    </tr>\n",
       "  </tbody>\n",
       "</table>\n",
       "</div>"
      ],
      "text/plain": [
       "   game_nr      color     winner  ppo_wins  ppo_loose  draw RL Methods\n",
       "0        0  white (X)  black (O)         0          1     0   PPO+MCTS\n",
       "1        1  black (O)  black (O)         1          0     0   PPO+MCTS\n",
       "2        2  white (X)  white (X)         1          0     0   PPO+MCTS\n",
       "3        3  black (O)  black (O)         1          0     0   PPO+MCTS\n",
       "4        4  white (X)  white (X)         1          0     0   PPO+MCTS"
      ]
     },
     "execution_count": 33,
     "metadata": {},
     "output_type": "execute_result"
    }
   ],
   "source": [
    "rl_mcts_1000.head()"
   ]
  },
  {
   "cell_type": "code",
   "execution_count": 39,
   "metadata": {},
   "outputs": [],
   "source": [
    "models2 = [ppo_plus_vs_mcts_with_mem,]\n",
    "rl_mcts_with_mem = pd.concat(models2)\n",
    "rl_mcts_with_mem.drop(\"Unnamed: 0\", axis=1, inplace=True)"
   ]
  },
  {
   "cell_type": "code",
   "execution_count": 16,
   "metadata": {},
   "outputs": [
    {
     "data": {
      "text/plain": [
       "100"
      ]
     },
     "execution_count": 16,
     "metadata": {},
     "output_type": "execute_result"
    }
   ],
   "source": [
    "(combined_mcts[\"num_iter\"] == 2000).sum()"
   ]
  },
  {
   "cell_type": "code",
   "execution_count": 17,
   "metadata": {},
   "outputs": [],
   "source": [
    "#Droping the first coloumn\n",
    "\n",
    "combined_mcts.drop(\"Unnamed: 0\",axis=1,inplace=True)"
   ]
  },
  {
   "cell_type": "code",
   "execution_count": 18,
   "metadata": {},
   "outputs": [
    {
     "ename": "KeyError",
     "evalue": "'mcts_color'",
     "output_type": "error",
     "traceback": [
      "\u001b[0;31m---------------------------------------------------------------------------\u001b[0m",
      "\u001b[0;31mKeyError\u001b[0m                                  Traceback (most recent call last)",
      "File \u001b[0;32m/opt/homebrew/Caskroom/miniconda/base/envs/ds-uttt/lib/python3.11/site-packages/pandas/core/indexes/base.py:3790\u001b[0m, in \u001b[0;36mIndex.get_loc\u001b[0;34m(self, key)\u001b[0m\n\u001b[1;32m   3789\u001b[0m \u001b[39mtry\u001b[39;00m:\n\u001b[0;32m-> 3790\u001b[0m     \u001b[39mreturn\u001b[39;00m \u001b[39mself\u001b[39m\u001b[39m.\u001b[39m_engine\u001b[39m.\u001b[39mget_loc(casted_key)\n\u001b[1;32m   3791\u001b[0m \u001b[39mexcept\u001b[39;00m \u001b[39mKeyError\u001b[39;00m \u001b[39mas\u001b[39;00m err:\n",
      "File \u001b[0;32mindex.pyx:152\u001b[0m, in \u001b[0;36mpandas._libs.index.IndexEngine.get_loc\u001b[0;34m()\u001b[0m\n",
      "File \u001b[0;32mindex.pyx:181\u001b[0m, in \u001b[0;36mpandas._libs.index.IndexEngine.get_loc\u001b[0;34m()\u001b[0m\n",
      "File \u001b[0;32mpandas/_libs/hashtable_class_helper.pxi:7080\u001b[0m, in \u001b[0;36mpandas._libs.hashtable.PyObjectHashTable.get_item\u001b[0;34m()\u001b[0m\n",
      "File \u001b[0;32mpandas/_libs/hashtable_class_helper.pxi:7088\u001b[0m, in \u001b[0;36mpandas._libs.hashtable.PyObjectHashTable.get_item\u001b[0;34m()\u001b[0m\n",
      "\u001b[0;31mKeyError\u001b[0m: 'mcts_color'",
      "\nThe above exception was the direct cause of the following exception:\n",
      "\u001b[0;31mKeyError\u001b[0m                                  Traceback (most recent call last)",
      "\u001b[1;32m/Users/sreejiththamban/Desktop/python/Spiced_academy/final_project/ds-ultimate-tic-tac-toe/mcts_random_eda_1.ipynb Cell 22\u001b[0m line \u001b[0;36m1\n\u001b[0;32m----> <a href='vscode-notebook-cell:/Users/sreejiththamban/Desktop/python/Spiced_academy/final_project/ds-ultimate-tic-tac-toe/mcts_random_eda_1.ipynb#X16sZmlsZQ%3D%3D?line=0'>1</a>\u001b[0m mcts_10_wins \u001b[39m=\u001b[39m mcts_10[mcts_10[\u001b[39m\"\u001b[39m\u001b[39mwinner\u001b[39m\u001b[39m\"\u001b[39m] \u001b[39m==\u001b[39m mcts_10[\u001b[39m\"\u001b[39m\u001b[39mmcts_color\u001b[39m\u001b[39m\"\u001b[39m]]\u001b[39m.\u001b[39mvalue_counts()\n\u001b[1;32m      <a href='vscode-notebook-cell:/Users/sreejiththamban/Desktop/python/Spiced_academy/final_project/ds-ultimate-tic-tac-toe/mcts_random_eda_1.ipynb#X16sZmlsZQ%3D%3D?line=1'>2</a>\u001b[0m mcts_10_draws \u001b[39m=\u001b[39m mcts_10[\u001b[39m\"\u001b[39m\u001b[39mwinner\u001b[39m\u001b[39m\"\u001b[39m]\u001b[39m.\u001b[39misna()\u001b[39m.\u001b[39msum()\n\u001b[1;32m      <a href='vscode-notebook-cell:/Users/sreejiththamban/Desktop/python/Spiced_academy/final_project/ds-ultimate-tic-tac-toe/mcts_random_eda_1.ipynb#X16sZmlsZQ%3D%3D?line=2'>3</a>\u001b[0m mcts_10_losses \u001b[39m=\u001b[39m mcts_10[mcts_10[\u001b[39m\"\u001b[39m\u001b[39mwinner\u001b[39m\u001b[39m\"\u001b[39m] \u001b[39m!=\u001b[39m mcts_10[\u001b[39m\"\u001b[39m\u001b[39mmcts_color\u001b[39m\u001b[39m\"\u001b[39m]]\u001b[39m.\u001b[39mvalue_counts()\n",
      "File \u001b[0;32m/opt/homebrew/Caskroom/miniconda/base/envs/ds-uttt/lib/python3.11/site-packages/pandas/core/frame.py:3896\u001b[0m, in \u001b[0;36mDataFrame.__getitem__\u001b[0;34m(self, key)\u001b[0m\n\u001b[1;32m   3894\u001b[0m \u001b[39mif\u001b[39;00m \u001b[39mself\u001b[39m\u001b[39m.\u001b[39mcolumns\u001b[39m.\u001b[39mnlevels \u001b[39m>\u001b[39m \u001b[39m1\u001b[39m:\n\u001b[1;32m   3895\u001b[0m     \u001b[39mreturn\u001b[39;00m \u001b[39mself\u001b[39m\u001b[39m.\u001b[39m_getitem_multilevel(key)\n\u001b[0;32m-> 3896\u001b[0m indexer \u001b[39m=\u001b[39m \u001b[39mself\u001b[39m\u001b[39m.\u001b[39mcolumns\u001b[39m.\u001b[39mget_loc(key)\n\u001b[1;32m   3897\u001b[0m \u001b[39mif\u001b[39;00m is_integer(indexer):\n\u001b[1;32m   3898\u001b[0m     indexer \u001b[39m=\u001b[39m [indexer]\n",
      "File \u001b[0;32m/opt/homebrew/Caskroom/miniconda/base/envs/ds-uttt/lib/python3.11/site-packages/pandas/core/indexes/base.py:3797\u001b[0m, in \u001b[0;36mIndex.get_loc\u001b[0;34m(self, key)\u001b[0m\n\u001b[1;32m   3792\u001b[0m     \u001b[39mif\u001b[39;00m \u001b[39misinstance\u001b[39m(casted_key, \u001b[39mslice\u001b[39m) \u001b[39mor\u001b[39;00m (\n\u001b[1;32m   3793\u001b[0m         \u001b[39misinstance\u001b[39m(casted_key, abc\u001b[39m.\u001b[39mIterable)\n\u001b[1;32m   3794\u001b[0m         \u001b[39mand\u001b[39;00m \u001b[39many\u001b[39m(\u001b[39misinstance\u001b[39m(x, \u001b[39mslice\u001b[39m) \u001b[39mfor\u001b[39;00m x \u001b[39min\u001b[39;00m casted_key)\n\u001b[1;32m   3795\u001b[0m     ):\n\u001b[1;32m   3796\u001b[0m         \u001b[39mraise\u001b[39;00m InvalidIndexError(key)\n\u001b[0;32m-> 3797\u001b[0m     \u001b[39mraise\u001b[39;00m \u001b[39mKeyError\u001b[39;00m(key) \u001b[39mfrom\u001b[39;00m \u001b[39merr\u001b[39;00m\n\u001b[1;32m   3798\u001b[0m \u001b[39mexcept\u001b[39;00m \u001b[39mTypeError\u001b[39;00m:\n\u001b[1;32m   3799\u001b[0m     \u001b[39m# If we have a listlike key, _check_indexing_error will raise\u001b[39;00m\n\u001b[1;32m   3800\u001b[0m     \u001b[39m#  InvalidIndexError. Otherwise we fall through and re-raise\u001b[39;00m\n\u001b[1;32m   3801\u001b[0m     \u001b[39m#  the TypeError.\u001b[39;00m\n\u001b[1;32m   3802\u001b[0m     \u001b[39mself\u001b[39m\u001b[39m.\u001b[39m_check_indexing_error(key)\n",
      "\u001b[0;31mKeyError\u001b[0m: 'mcts_color'"
     ]
    }
   ],
   "source": [
    "mcts_10_wins = mcts_10[mcts_10[\"winner\"] == mcts_10[\"mcts_color\"]].value_counts()\n",
    "mcts_10_draws = mcts_10[\"winner\"].isna().sum()\n",
    "mcts_10_losses = mcts_10[mcts_10[\"winner\"] != mcts_10[\"mcts_color\"]].value_counts()\n",
    "\n",
    "print(f\"The MCTS_10 has won {mcts_10_wins.shape[0]} out of {mcts_10.shape[0]} games against Baseline Model.\")\n",
    "print(f\"The MCTS_10 has tied {mcts_10_draws} out of {mcts_10.shape[0]} games against Baseline Model.\")\n",
    "print(f\"The MCTS_10 has lost {mcts_10_losses.shape[0]} out of {mcts_10.shape[0]} games against Baseline Model.\")"
   ]
  },
  {
   "cell_type": "code",
   "execution_count": null,
   "metadata": {},
   "outputs": [],
   "source": [
    "mcts_20_wins = mcts_20[mcts_20[\"winner\"] == mcts_20[\"mcts_color\"]].value_counts()\n",
    "mcts_20_draws = mcts_20[\"winner\"].isna().sum()\n",
    "mcts_20_losses = mcts_20[mcts_20[\"winner\"] != mcts_20[\"mcts_color\"]].value_counts()\n",
    "\n",
    "print(f\"The MCTS_20 has won {mcts_20_wins.shape[0]} out of {mcts_20.shape[0]} games against Baseline Model.\")\n",
    "print(f\"The MCTS_20 has tied {mcts_20_draws} out of {mcts_20.shape[0]} games against Baseline Model.\")\n",
    "print(f\"The MCTS_20 has lost {mcts_20_losses.shape[0]} out of {mcts_20.shape[0]} games against Baseline Model.\")"
   ]
  },
  {
   "cell_type": "code",
   "execution_count": null,
   "metadata": {},
   "outputs": [],
   "source": [
    "mcts_50_wins = mcts_50[mcts_50[\"winner\"] == mcts_50[\"mcts_color\"]].value_counts()\n",
    "mcts_50_draws = mcts_50[\"winner\"].isna().sum()\n",
    "mcts_50_losses = mcts_50[mcts_50[\"winner\"] != mcts_50[\"mcts_color\"]].value_counts()\n",
    "\n",
    "print(f\"The MCTS_50 has won {mcts_50_wins.shape[0]} out of {mcts_50.shape[0]} games against Baseline Model.\")\n",
    "print(f\"The MCTS_50 has tied {mcts_50_draws} out of {mcts_50.shape[0]} games against Baseline Model.\")\n",
    "print(f\"The MCTS_50 has lost {mcts_50_losses.shape[0]} out of {mcts_50.shape[0]} games against Baseline Model.\")"
   ]
  },
  {
   "cell_type": "code",
   "execution_count": null,
   "metadata": {},
   "outputs": [],
   "source": [
    "# Agent 01\n",
    "# iterations: 1000\n",
    "# games: 100\n",
    "# old value structure (-1, 0, 1)\n",
    "# memory created, updated 0 times\n",
    "# memory size: 1.12 GB\n",
    "\n",
    "mcts_1000_memory_wins = mcts_1000_memory[mcts_1000_memory[\"winner\"] == mcts_1000_memory[\"mcts_color\"]].value_counts()\n",
    "mcts_1000_memory_draws = mcts_1000_memory[\"winner\"].isna().sum()\n",
    "mcts_1000_memory_losses = mcts_1000_memory[mcts_1000_memory[\"winner\"] != mcts_1000_memory[\"mcts_color\"]].value_counts()\n",
    "\n",
    "print(f\"The MCTS_1000_memory has won {mcts_1000_memory_wins.shape[0]} out of 100 games against Baseline Model.\")\n",
    "print(f\"The MCTS_1000_memory has tied {mcts_1000_memory_draws} out of 100 games against Baseline Model.\")\n",
    "print(f\"The MCTS_1000_memory has lost {mcts_1000_memory_losses.shape[0]} out of 100 games against Baseline Model.\")"
   ]
  },
  {
   "cell_type": "code",
   "execution_count": null,
   "metadata": {},
   "outputs": [],
   "source": [
    "# Agent 01 \n",
    "# iterations: 1000\n",
    "# games: 100\n",
    "# old value structure (-1, 0, 1)\n",
    "# memory created, updated 0 times\n",
    "# memory size: 1.12 GB\n",
    "\n",
    "mcts_mcts_01_1000_wins = mcts_mcts_01_1000[mcts_mcts_01_1000[\"winner\"] == mcts_mcts_01_1000[\"mcts_color\"]].value_counts()\n",
    "mcts_mcts_01_1000_draws = mcts_mcts_01_1000[\"winner\"].isna().sum()\n",
    "mcts_mcts_01_1000_losses = mcts_mcts_01_1000[mcts_mcts_01_1000[\"winner\"] != mcts_mcts_01_1000[\"mcts_color\"]].value_counts()\n",
    "\n",
    "print(f\"The MCTS_mcts_01_1000 has won {mcts_mcts_01_1000_wins.shape[0]} out of {mcts_mcts_01_1000.shape[0]} games against MCTS (no memory).\")\n",
    "print(f\"The MCTS_mcts_01_1000 has tied {mcts_mcts_01_1000_draws} out of {mcts_mcts_01_1000.shape[0]} games against MCTS (no memory).\")\n",
    "print(f\"The MCTS_mcts_01_1000 has lost {mcts_mcts_01_1000_losses.shape[0]} out of {mcts_mcts_01_1000.shape[0]} games against MCTS (no memory).\")"
   ]
  },
  {
   "cell_type": "code",
   "execution_count": null,
   "metadata": {},
   "outputs": [],
   "source": [
    "mcts_mcts_01_1000_2_1000_games_wins = mcts_mcts_01_1000_2_1000_games[mcts_mcts_01_1000_2_1000_games[\"winner\"] == mcts_mcts_01_1000_2_1000_games[\"mcts_color\"]].value_counts()\n",
    "mcts_mcts_01_1000_2_1000_games_draws = mcts_mcts_01_1000_2_1000_games[\"winner\"].isna().sum()\n",
    "mcts_mcts_01_1000_2_1000_games_losses = mcts_mcts_01_1000_2_1000_games[mcts_mcts_01_1000_2_1000_games[\"winner\"] != mcts_mcts_01_1000_2_1000_games[\"mcts_color\"]].value_counts()\n",
    "\n",
    "print(f\"The MCTS_mcts_01_1000_2_1000_games has won {mcts_mcts_01_1000_2_1000_games_wins.shape[0]} out of {mcts_mcts_01_1000_2_1000_games.shape[0]} games against MCTS (no memory).\")\n",
    "print(f\"The MCTS_mcts_01_1000_2_1000_games has tied {mcts_mcts_01_1000_2_1000_games_draws} out of {mcts_mcts_01_1000_2_1000_games.shape[0]} games against MCTS (no memory).\")\n",
    "print(f\"The MCTS_mcts_01_1000_2_1000_games has lost {mcts_mcts_01_1000_2_1000_games_losses.shape[0]} out of {mcts_mcts_01_1000_2_1000_games.shape[0]} games against MCTS (no memory).\")"
   ]
  },
  {
   "cell_type": "code",
   "execution_count": null,
   "metadata": {},
   "outputs": [],
   "source": [
    "# Agent 02 \n",
    "# iterations: 1000\n",
    "# games: 100\n",
    "# updated value structure (0, 0.5, 1)\n",
    "# memory created, updated 0 time\n",
    "# memory size used: 1.15 GB\n",
    "# memory size created: 2.03 GB\n",
    "\n",
    "mcts_mcts_02_1000_wins = mcts_mcts_02_1000[mcts_mcts_02_1000[\"winner\"] == mcts_mcts_02_1000[\"mcts_color\"]].value_counts()\n",
    "mcts_mcts_02_1000_draws = mcts_mcts_02_1000[\"winner\"].isna().sum()\n",
    "mcts_mcts_02_1000_losses = mcts_mcts_02_1000[mcts_mcts_02_1000[\"winner\"] != mcts_mcts_02_1000[\"mcts_color\"]].value_counts()\n",
    "\n",
    "print(f\"The MCTS_mcts_02_1000 has won {mcts_mcts_02_1000_wins.shape[0]} out of 100 games against MCTS (no memory).\")\n",
    "print(f\"The MCTS_mcts_02_1000 has tied {mcts_mcts_02_1000_draws} out of 100 games against MCTS (no memory).\")\n",
    "print(f\"The MCTS_mcts_02_1000 has lost {mcts_mcts_02_1000_losses.shape[0]} out of 100 games against MCTS (no memory).\")"
   ]
  },
  {
   "cell_type": "code",
   "execution_count": null,
   "metadata": {},
   "outputs": [],
   "source": [
    "# Agent 02 \n",
    "# iterations: 1000\n",
    "# games: 100\n",
    "# updated value structure (0, 0.5, 1)\n",
    "# memory created, updated 1 times\n",
    "# memory size used: 2.03 GB\n",
    "# memory size created: 2.95 GB\n",
    "\n",
    "mcts_mcts_02_1000_2_wins = mcts_mcts_02_1000_2[mcts_mcts_02_1000_2[\"winner\"] == mcts_mcts_02_1000_2[\"mcts_color\"]].value_counts()\n",
    "mcts_mcts_02_1000_2_draws = mcts_mcts_02_1000_2[\"winner\"].isna().sum()\n",
    "mcts_mcts_02_1000_2_losses = mcts_mcts_02_1000_2[mcts_mcts_02_1000_2[\"winner\"] != mcts_mcts_02_1000_2[\"mcts_color\"]].value_counts()\n",
    "\n",
    "print(f\"The MCTS_mcts_02_1000_2 has won {mcts_mcts_02_1000_2_wins.shape[0]} out of 100 games against MCTS (no memory).\")\n",
    "print(f\"The MCTS_mcts_02_1000_2 has tied {mcts_mcts_02_1000_2_draws} out of 100 games against MCTS (no memory).\")\n",
    "print(f\"The MCTS_mcts_02_1000_2 has lost {mcts_mcts_02_1000_2_losses.shape[0]} out of 100 games against MCTS (no memory).\")"
   ]
  },
  {
   "cell_type": "code",
   "execution_count": null,
   "metadata": {},
   "outputs": [],
   "source": [
    "# Agent 02 \n",
    "# iterations: 1000\n",
    "# games: 100\n",
    "# updated value structure (0, 0.5, 1)\n",
    "# memory created, updated 2 times\n",
    "# memory size used: 2.95 GB\n",
    "# memory size created: 4.03 GB\n",
    "\n",
    "mcts_mcts_02_1000_3_wins = mcts_mcts_02_1000_3[mcts_mcts_02_1000_3[\"winner\"] == mcts_mcts_02_1000_3[\"mcts_color\"]].value_counts()\n",
    "mcts_mcts_02_1000_3_draws = mcts_mcts_02_1000_3[\"winner\"].isna().sum()\n",
    "mcts_mcts_02_1000_3_losses = mcts_mcts_02_1000_3[mcts_mcts_02_1000_3[\"winner\"] != mcts_mcts_02_1000_3[\"mcts_color\"]].value_counts()\n",
    "\n",
    "print(f\"The MCTS_mcts_02_1000_3 has won {mcts_mcts_02_1000_3_wins.shape[0]} out of 100 games against MCTS (no memory).\")\n",
    "print(f\"The MCTS_mcts_02_1000_3 has tied {mcts_mcts_02_1000_3_draws} out of 100 games against MCTS (no memory).\")\n",
    "print(f\"The MCTS_mcts_02_1000_3 has lost {mcts_mcts_02_1000_3_losses.shape[0]} out of 100 games against MCTS (no memory).\")"
   ]
  },
  {
   "cell_type": "code",
   "execution_count": null,
   "metadata": {},
   "outputs": [],
   "source": [
    "#mcts"
   ]
  },
  {
   "cell_type": "code",
   "execution_count": null,
   "metadata": {},
   "outputs": [],
   "source": [
    "filtered_data = combined_mcts[combined_mcts[\"winner\"] == combined_mcts[\"mcts_color\"]]\n"
   ]
  },
  {
   "cell_type": "code",
   "execution_count": null,
   "metadata": {},
   "outputs": [],
   "source": [
    "filtered_data.head()"
   ]
  },
  {
   "cell_type": "code",
   "execution_count": null,
   "metadata": {},
   "outputs": [],
   "source": [
    "win_data = combined_mcts[(combined_mcts[\"mcts_color\"] == combined_mcts[\"winner\"]) & ~combined_mcts[\"winner\"].isna()]\n",
    "loss_data = combined_mcts[(combined_mcts[\"mcts_color\"] != combined_mcts[\"winner\"]) & ~combined_mcts[\"winner\"].isna()]\n",
    "draw_data = combined_mcts[combined_mcts[\"winner\"].isna()]"
   ]
  },
  {
   "cell_type": "code",
   "execution_count": null,
   "metadata": {},
   "outputs": [],
   "source": [
    "total = combined_mcts[\"game_nr\"].sum()"
   ]
  },
  {
   "cell_type": "code",
   "execution_count": null,
   "metadata": {},
   "outputs": [],
   "source": [
    "total"
   ]
  },
  {
   "cell_type": "code",
   "execution_count": null,
   "metadata": {},
   "outputs": [],
   "source": [
    "\n",
    "\n",
    "\n",
    "\n",
    "# Create a new DataFrame for plotting\n",
    "plot_data = pd.DataFrame({\n",
    "    'num_iter': combined_mcts['num_iter'].unique(),\n",
    "    'Win': win_data.groupby('num_iter').size(),\n",
    "    'Loss': loss_data.groupby('num_iter').size(),\n",
    "    'Draw': draw_data.groupby('num_iter').size().fillna(0)\n",
    "})\n",
    "\n",
    "# Melt the DataFrame for Seaborn\n",
    "plot_data_melted = pd.melt(plot_data, id_vars='num_iter', var_name='Outcome', value_name='Count')\n",
    "\n",
    "# Create a bar plot\n",
    "sns.barplot(data=plot_data_melted, x='num_iter', y='Count', hue='Outcome')\n",
    "\n",
    "# Set plot labels and title\n",
    "plt.xlabel('Iterations')\n",
    "plt.ylabel('Count')\n",
    "plt.title('Outcome Counts for Different Iterations')\n",
    "\n",
    "# Show the plot\n",
    "plt.show()"
   ]
  },
  {
   "cell_type": "code",
   "execution_count": 44,
   "metadata": {},
   "outputs": [
    {
     "name": "stderr",
     "output_type": "stream",
     "text": [
      "/opt/homebrew/Caskroom/miniconda/base/envs/ds-uttt/lib/python3.11/site-packages/seaborn/_oldcore.py:1498: FutureWarning: is_categorical_dtype is deprecated and will be removed in a future version. Use isinstance(dtype, CategoricalDtype) instead\n",
      "  if pd.api.types.is_categorical_dtype(vector):\n",
      "/opt/homebrew/Caskroom/miniconda/base/envs/ds-uttt/lib/python3.11/site-packages/seaborn/_oldcore.py:1498: FutureWarning: is_categorical_dtype is deprecated and will be removed in a future version. Use isinstance(dtype, CategoricalDtype) instead\n",
      "  if pd.api.types.is_categorical_dtype(vector):\n",
      "/opt/homebrew/Caskroom/miniconda/base/envs/ds-uttt/lib/python3.11/site-packages/seaborn/_oldcore.py:1498: FutureWarning: is_categorical_dtype is deprecated and will be removed in a future version. Use isinstance(dtype, CategoricalDtype) instead\n",
      "  if pd.api.types.is_categorical_dtype(vector):\n",
      "/opt/homebrew/Caskroom/miniconda/base/envs/ds-uttt/lib/python3.11/site-packages/seaborn/_oldcore.py:1498: FutureWarning: is_categorical_dtype is deprecated and will be removed in a future version. Use isinstance(dtype, CategoricalDtype) instead\n",
      "  if pd.api.types.is_categorical_dtype(vector):\n"
     ]
    },
    {
     "data": {
      "image/png": "[encoded data removed]",
      "text/plain": [
       "<Figure size 1170x827 with 1 Axes>"
      ]
     },
     "metadata": {},
     "output_type": "display_data"
    }
   ],
   "source": [
    "#Stage-01 Against Random\n",
    "\n",
    "#Create Win,Loss,Draw dataFrame\n",
    "win_data_RL = rl_basemodel[(rl_basemodel[\"color\"] == rl_basemodel[\"winner\"]) & ~rl_basemodel[\"winner\"].isna()]\n",
    "loss_data_RL = rl_basemodel[(rl_basemodel[\"color\"] != rl_basemodel[\"winner\"]) & ~rl_basemodel[\"winner\"].isna()]\n",
    "draw_data_RL = rl_basemodel[rl_basemodel[\"winner\"].isna()]\n",
    "# Create a new DataFrame for plotting\n",
    "plot_data = pd.DataFrame({\n",
    "    'RL Methods': rl_basemodel['RL Methods'].unique(),\n",
    "    'Win': win_data_RL.groupby('RL Methods').size(),\n",
    "    'Loss': loss_data_RL.groupby('RL Methods').size(),\n",
    "    'Draw': draw_data_RL.groupby('RL Methods').size().fillna(0)\n",
    "})\n",
    "\n",
    "# Melt the DataFrame for Seaborn\n",
    "plot_data_melted = pd.melt(plot_data, id_vars='RL Methods', var_name='Outcome', value_name='Count')\n",
    "\n",
    "# Create a bar plot\n",
    "sns.barplot(data=plot_data_melted, x='RL Methods', y='Count', hue='Outcome',palette='Set2')\n",
    "\n",
    "# Set plot labels and title\n",
    "sns.set(rc={'figure.figsize':(11.7,8.27)})\n",
    "plt.xlabel('RL')\n",
    "plt.ylabel('Count')\n",
    "plt.title('Different RL Algorithms Vs Random')\n",
    "\n",
    "# Show the plot\n",
    "plt.show()"
   ]
  },
  {
   "cell_type": "code",
   "execution_count": 37,
   "metadata": {},
   "outputs": [
    {
     "name": "stderr",
     "output_type": "stream",
     "text": [
      "/opt/homebrew/Caskroom/miniconda/base/envs/ds-uttt/lib/python3.11/site-packages/seaborn/_oldcore.py:1498: FutureWarning: is_categorical_dtype is deprecated and will be removed in a future version. Use isinstance(dtype, CategoricalDtype) instead\n",
      "  if pd.api.types.is_categorical_dtype(vector):\n",
      "/opt/homebrew/Caskroom/miniconda/base/envs/ds-uttt/lib/python3.11/site-packages/seaborn/_oldcore.py:1498: FutureWarning: is_categorical_dtype is deprecated and will be removed in a future version. Use isinstance(dtype, CategoricalDtype) instead\n",
      "  if pd.api.types.is_categorical_dtype(vector):\n",
      "/opt/homebrew/Caskroom/miniconda/base/envs/ds-uttt/lib/python3.11/site-packages/seaborn/_oldcore.py:1498: FutureWarning: is_categorical_dtype is deprecated and will be removed in a future version. Use isinstance(dtype, CategoricalDtype) instead\n",
      "  if pd.api.types.is_categorical_dtype(vector):\n",
      "/opt/homebrew/Caskroom/miniconda/base/envs/ds-uttt/lib/python3.11/site-packages/seaborn/_oldcore.py:1498: FutureWarning: is_categorical_dtype is deprecated and will be removed in a future version. Use isinstance(dtype, CategoricalDtype) instead\n",
      "  if pd.api.types.is_categorical_dtype(vector):\n"
     ]
    },
    {
     "data": {
      "image/png": "[encoded data removed]",
      "text/plain": [
       "<Figure size 1170x827 with 1 Axes>"
      ]
     },
     "metadata": {},
     "output_type": "display_data"
    }
   ],
   "source": [
    "#Stage-02 Against MCTS 1000\n",
    "\n",
    "#Create Win,Loss,Draw dataFrame\n",
    "win_data_RL1 = rl_mcts_1000[(rl_mcts_1000[\"color\"] == rl_mcts_1000[\"winner\"]) & ~rl_mcts_1000[\"winner\"].isna()]\n",
    "loss_data_RL1 = rl_mcts_1000[(rl_mcts_1000[\"color\"] != rl_mcts_1000[\"winner\"]) & ~rl_mcts_1000[\"winner\"].isna()]\n",
    "draw_data_RL1 = rl_mcts_1000[rl_mcts_1000[\"winner\"].isna()]\n",
    "# Create a new DataFrame for plotting\n",
    "plot_data = pd.DataFrame({\n",
    "    'RL Methods': rl_mcts_1000['RL Methods'].unique(),\n",
    "    'Win': win_data_RL1.groupby('RL Methods').size(),\n",
    "    'Loss':loss_data_RL1.groupby('RL Methods').size(),\n",
    "    'Draw': draw_data_RL1.groupby('RL Methods').size().fillna(0)\n",
    "})\n",
    "\n",
    "# Melt the DataFrame for Seaborn\n",
    "plot_data_melted = pd.melt(plot_data, id_vars='RL Methods', var_name='Outcome', value_name='Count')\n",
    "\n",
    "# Create a bar plot\n",
    "sns.barplot(data=plot_data_melted, x='RL Methods', y='Count', hue='Outcome',palette='Set2')\n",
    "\n",
    "# Set plot labels and title\n",
    "\n",
    "plt.xlabel('RL')\n",
    "plt.ylabel('Count')\n",
    "plt.title('Different RL Algorithms Vs MCTS 1000')\n",
    "\n",
    "# Show the plot\n",
    "plt.show()"
   ]
  },
  {
   "cell_type": "code",
   "execution_count": 42,
   "metadata": {},
   "outputs": [
    {
     "name": "stderr",
     "output_type": "stream",
     "text": [
      "/opt/homebrew/Caskroom/miniconda/base/envs/ds-uttt/lib/python3.11/site-packages/seaborn/_oldcore.py:1498: FutureWarning: is_categorical_dtype is deprecated and will be removed in a future version. Use isinstance(dtype, CategoricalDtype) instead\n",
      "  if pd.api.types.is_categorical_dtype(vector):\n",
      "/opt/homebrew/Caskroom/miniconda/base/envs/ds-uttt/lib/python3.11/site-packages/seaborn/_oldcore.py:1498: FutureWarning: is_categorical_dtype is deprecated and will be removed in a future version. Use isinstance(dtype, CategoricalDtype) instead\n",
      "  if pd.api.types.is_categorical_dtype(vector):\n",
      "/opt/homebrew/Caskroom/miniconda/base/envs/ds-uttt/lib/python3.11/site-packages/seaborn/_oldcore.py:1498: FutureWarning: is_categorical_dtype is deprecated and will be removed in a future version. Use isinstance(dtype, CategoricalDtype) instead\n",
      "  if pd.api.types.is_categorical_dtype(vector):\n",
      "/opt/homebrew/Caskroom/miniconda/base/envs/ds-uttt/lib/python3.11/site-packages/seaborn/_oldcore.py:1498: FutureWarning: is_categorical_dtype is deprecated and will be removed in a future version. Use isinstance(dtype, CategoricalDtype) instead\n",
      "  if pd.api.types.is_categorical_dtype(vector):\n"
     ]
    },
    {
     "data": {
      "image/png": "[encoded data removed]",
      "text/plain": [
       "<Figure size 1170x827 with 1 Axes>"
      ]
     },
     "metadata": {},
     "output_type": "display_data"
    }
   ],
   "source": [
    "#Stage-03 Against MCTS with Memory\n",
    "\n",
    "#Create Win,Loss,Draw dataFrame\n",
    "win_data_RL2 = rl_mcts_with_mem[(rl_mcts_with_mem[\"color\"] == rl_mcts_with_mem[\"winner\"]) & ~rl_mcts_with_mem[\"winner\"].isna()]\n",
    "loss_data_RL2 = rl_mcts_with_mem[(rl_mcts_with_mem[\"color\"] != rl_mcts_with_mem[\"winner\"]) & ~rl_mcts_with_mem[\"winner\"].isna()]\n",
    "draw_data_RL2 = rl_mcts_with_mem[rl_mcts_with_mem[\"winner\"].isna()]\n",
    "# Create a new DataFrame for plotting\n",
    "plot_data = pd.DataFrame({\n",
    "    'RL Methods': rl_mcts_1000['RL Methods'].unique(),\n",
    "    'Win': win_data_RL2.groupby('RL Methods').size(),\n",
    "    'Loss':loss_data_RL2.groupby('RL Methods').size(),\n",
    "    'Draw': draw_data_RL2.groupby('RL Methods').size().fillna(0)\n",
    "})\n",
    "\n",
    "# Melt the DataFrame for Seaborn\n",
    "plot_data_melted = pd.melt(plot_data, id_vars='RL Methods', var_name='Outcome', value_name='Count')\n",
    "\n",
    "# Create a bar plot\n",
    "sns.barplot(data=plot_data_melted, x='RL Methods', y='Count', hue='Outcome',palette='Set2')\n",
    "\n",
    "# Set plot labels and title\n",
    "\n",
    "plt.xlabel('RL')\n",
    "plt.ylabel('Count')\n",
    "plt.title('PPO+MCTS Vs MCTS with Memory')\n",
    "\n",
    "# Show the plot\n",
    "plt.show()"
   ]
  },
  {
   "cell_type": "code",
   "execution_count": null,
   "metadata": {},
   "outputs": [],
   "source": [
    "# PPO \n",
    "# rewards: \n",
    "#   global_wins: 10\n",
    "#   local_wins: 1\n",
    "# iterations: 10_000_000\n",
    "# games: 100\n",
    "\n",
    "ppo_01_wins = ppo_random_01_1000000[ppo_random_01_1000000[\"winner\"] == ppo_random_01_1000000[\"ppo_color\"]].value_counts()\n",
    "ppo_01_draws = ppo_random_01_1000000[\"winner\"].isna().sum()\n",
    "ppo_01_losses = ppo_random_01_1000000[ppo_random_01_1000000[\"winner\"] != ppo_random_01_1000000[\"ppo_color\"]].value_counts()\n",
    "\n",
    "print(f\"The ppo_01 has won {ppo_01_wins.shape[0]} out of 100 games against Baseline Model.\")\n",
    "print(f\"The ppo_01 has tied {ppo_01_draws} out of 100 games against Baseline Model.\")\n",
    "print(f\"The ppo_01 has lost {ppo_01_losses.shape[0]} out of 100 games against Baseline Model.\")"
   ]
  },
  {
   "cell_type": "code",
   "execution_count": null,
   "metadata": {},
   "outputs": [],
   "source": [
    "# PPO \n",
    "# rewards: \n",
    "#   global_wins: 10\n",
    "#   local_wins: 1\n",
    "# iterations: 100_000\n",
    "# games: 100\n",
    "\n",
    "ppo_02_wins = ppo_random_02_100000[ppo_random_02_100000[\"winner\"] == ppo_random_02_100000[\"ppo_color\"]].value_counts()\n",
    "ppo_02_draws = ppo_random_02_100000[\"winner\"].isna().sum()\n",
    "ppo_02_losses = ppo_random_02_100000[ppo_random_02_100000[\"winner\"] != ppo_random_02_100000[\"ppo_color\"]].value_counts()\n",
    "\n",
    "print(f\"The ppo_02 has won {ppo_02_wins.shape[0]} out of 100 games against Baseline Model.\")\n",
    "print(f\"The ppo_02 has tied {ppo_02_draws} out of 100 games against Baseline Model.\")\n",
    "print(f\"The ppo_02 has lost {ppo_02_losses.shape[0]} out of 100 games against Baseline Model.\")"
   ]
  },
  {
   "cell_type": "code",
   "execution_count": null,
   "metadata": {},
   "outputs": [],
   "source": [
    "# 23rd Nov\n",
    "\n",
    "# PPO \n",
    "# rewards: \n",
    "#   global_wins: 50\n",
    "#   local_wins: 5\n",
    "#   globa_draw: 10\n",
    "#   local_draw: 2\n",
    "#   legal_move: 1\n",
    "#   illegal_move: -1\n",
    "# iterations: 75_000_000\n",
    "# games: 100\n",
    "\n",
    "ppo_03_wins = ppo_random_03_75000000[ppo_random_03_75000000[\"winner\"] == ppo_random_03_75000000[\"ppo_color\"]].value_counts()\n",
    "ppo_03_draws = ppo_random_03_75000000[\"winner\"].isna().sum()\n",
    "ppo_03_losses = ppo_random_03_75000000[ppo_random_03_75000000[\"winner\"] != ppo_random_03_75000000[\"ppo_color\"]].value_counts()\n",
    "\n",
    "print(f\"The ppo_03 has won {ppo_03_wins.shape[0]} out of 100 games against Baseline Model.\")\n",
    "print(f\"The ppo_03 has tied {ppo_03_draws} out of 100 games against Baseline Model.\")\n",
    "print(f\"The ppo_03 has lost {ppo_03_losses.shape[0]} out of 100 games against Baseline Model.\")"
   ]
  },
  {
   "cell_type": "code",
   "execution_count": null,
   "metadata": {},
   "outputs": [],
   "source": [
    "# 23rd Nov\n",
    "\n",
    "# PPO v4\n",
    "# rewards: \n",
    "#   global_wins: 50\n",
    "#   local_wins: 5\n",
    "#   globa_draw: 10\n",
    "#   local_draw: 2\n",
    "#   legal_move: 1\n",
    "#   illegal_move: -1\n",
    "# iterations: 1_000_000\n",
    "# games: 100\n",
    "\n",
    "ppo_04_wins = ppo_random_04[ppo_random_04[\"winner\"] == ppo_random_04[\"ppo_color\"]].value_counts()\n",
    "ppo_04_draws = ppo_random_04[\"winner\"].isna().sum()\n",
    "ppo_04_losses = ppo_random_04[ppo_random_04[\"winner\"] != ppo_random_04[\"ppo_color\"]].value_counts()\n",
    "\n",
    "print(f\"The ppo_04 has won {ppo_04_wins.shape[0]} out of 100 games against Baseline Model.\")\n",
    "print(f\"The ppo_04 has tied {ppo_04_draws} out of 100 games against Baseline Model.\")\n",
    "print(f\"The ppo_04 has lost {ppo_04_losses.shape[0]} out of 100 games against Baseline Model.\")"
   ]
  },
  {
   "cell_type": "code",
   "execution_count": null,
   "metadata": {},
   "outputs": [],
   "source": [
    "# 23rd Nov\n",
    "\n",
    "# PPO v4\n",
    "# rewards: \n",
    "#   global_wins: 100\n",
    "#   local_wins: 5\n",
    "#   globa_draw: 10\n",
    "#   local_draw: 2\n",
    "#   legal_move: 1\n",
    "#   illegal_move: -2\n",
    "# iterations: 1_000_000\n",
    "# games: 100\n",
    "\n",
    "ppo_04_2_wins = ppo_random_04_2[ppo_random_04_2[\"winner\"] == ppo_random_04_2[\"ppo_color\"]].value_counts()\n",
    "ppo_04_2_draws = ppo_random_04_2[\"winner\"].isna().sum()\n",
    "ppo_04_2_losses = ppo_random_04_2[ppo_random_04_2[\"winner\"] != ppo_random_04_2[\"ppo_color\"]].value_counts()\n",
    "\n",
    "print(f\"The ppo_04_2 has won {ppo_04_2_wins.shape[0]} out of 100 games against Baseline Model.\")\n",
    "print(f\"The ppo_04_2 has tied {ppo_04_2_draws} out of 100 games against Baseline Model.\")\n",
    "print(f\"The ppo_04_2 has lost {ppo_04_2_losses.shape[0]} out of 100 games against Baseline Model.\")"
   ]
  }
 ],
 "metadata": {
  "kernelspec": {
   "display_name": "ds-uttt",
   "language": "python",
   "name": "python3"
  },
  "language_info": {
   "codemirror_mode": {
    "name": "ipython",
    "version": 3
   },
   "file_extension": ".py",
   "mimetype": "text/x-python",
   "name": "python",
   "nbconvert_exporter": "python",
   "pygments_lexer": "ipython3",
   "version": "3.11.6"
  }
 },
 "nbformat": 4,
 "nbformat_minor": 2
}
