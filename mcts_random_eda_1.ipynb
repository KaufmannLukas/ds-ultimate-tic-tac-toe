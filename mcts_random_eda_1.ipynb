{
 "cells": [
  {
   "cell_type": "code",
   "execution_count": 81,
   "metadata": {},
   "outputs": [],
   "source": [
    "import pandas as pd\n",
    "import matplotlib.pyplot as plt\n",
    "import seaborn as sns\n",
    "import numpy as np"
   ]
  },
  {
   "cell_type": "code",
   "execution_count": 82,
   "metadata": {},
   "outputs": [],
   "source": [
    "mcts_10 = pd.read_csv(\"data/random_vs_mcts_10.csv\")\n",
    "mcts_20 = pd.read_csv(\"data/random_vs_mcts_20.csv\")\n",
    "mcts_50 = pd.read_csv(\"data/random_vs_mcts_50.csv\")\n",
    "mcts_100 = pd.read_csv(\"data/random_vs_mcts_100.csv\")\n",
    "mcts_500 = pd.read_csv(\"data/random_vs_mcts_500.csv\")\n",
    "mcts_1000 = pd.read_csv(\"data/random_vs_mcts_1000.csv\")\n",
    "mcts_2000 = pd.read_csv(\"data/random_vs_mcts_2000.csv\")\n",
    "mcts_1000_memory = pd.read_csv(\"data/random_vs_mcts_1000_memory_1.csv\")\n",
    "mcts_mcts_01_1000 = pd.read_csv(\"data/mcts_no_mem_vs_mcts_agent_01_1000.csv\")\n",
    "mcts_mcts_01_1000_2_1000_games = pd.read_csv(\"data/mcts_no_mem_vs_mcts_agent_01_2_1000.csv\")\n",
    "mcts_mcts_02_1000 = pd.read_csv(\"data/mcts_no_mem_vs_mcts_agent_02_1_1000.csv\")\n",
    "mcts_mcts_02_1000_2 = pd.read_csv(\"data/mcts_no_mem_vs_mcts_agent_02_2_1000.csv\")\n",
    "mcts_mcts_02_1000_3 = pd.read_csv(\"data/mcts_no_mem_vs_mcts_agent_02_3_1000.csv\")"
   ]
  },
  {
   "cell_type": "code",
   "execution_count": 83,
   "metadata": {},
   "outputs": [],
   "source": [
    "# mcts_10['iterations'] = 10\n",
    "# mcts_20['iterations'] = 20\n",
    "# mcts_50['iterations'] = 50\n",
    "# mcts_100['iterations'] = 100\n",
    "# mcts_500['iterations'] = 500\n",
    "# mcts_1000['iterations'] = 1000\n",
    "# mcts_2000['iterations'] = 2000\n",
    "# mcts_1000_memory['iterations'] = 1000\n",
    "# mcts_mcts_01_1000['iterations'] = 1000\n",
    "# mcts_mcts_01_1000_2_1000_games['iterations'] = 1000"
   ]
  },
  {
   "cell_type": "code",
   "execution_count": 84,
   "metadata": {},
   "outputs": [
    {
     "data": {
      "text/plain": [
       "Index(['Unnamed: 0', 'game_nr', 'num_iter', 'mcts_color', 'winner'], dtype='object')"
      ]
     },
     "execution_count": 84,
     "metadata": {},
     "output_type": "execute_result"
    }
   ],
   "source": [
    "mcts_10.columns"
   ]
  },
  {
   "cell_type": "code",
   "execution_count": 85,
   "metadata": {},
   "outputs": [],
   "source": [
    "mcts = [mcts_10,mcts_20, mcts_50, mcts_100, mcts_500, mcts_1000, mcts_2000, mcts_1000_memory, mcts_mcts_01_1000, mcts_mcts_02_1000]\n",
    "\n",
    "combined_mcts = pd.concat(mcts)"
   ]
  },
  {
   "cell_type": "code",
   "execution_count": 86,
   "metadata": {},
   "outputs": [
    {
     "data": {
      "text/plain": [
       "Index(['Unnamed: 0', 'game_nr', 'num_iter', 'mcts_color', 'winner'], dtype='object')"
      ]
     },
     "execution_count": 86,
     "metadata": {},
     "output_type": "execute_result"
    }
   ],
   "source": [
    "combined_mcts.columns"
   ]
  },
  {
   "cell_type": "code",
   "execution_count": 87,
   "metadata": {},
   "outputs": [],
   "source": [
    "mcts_10.drop(\"Unnamed: 0\", axis=1, inplace=True)\n",
    "mcts_20.drop(\"Unnamed: 0\", axis=1, inplace=True)\n",
    "mcts_50.drop(\"Unnamed: 0\", axis=1, inplace=True)\n",
    "mcts_100.drop(\"Unnamed: 0\", axis=1, inplace=True)\n",
    "mcts_500.drop(\"Unnamed: 0\", axis=1, inplace=True)\n",
    "mcts_1000.drop(\"Unnamed: 0\", axis=1, inplace=True)\n",
    "mcts_2000.drop(\"Unnamed: 0\", axis=1, inplace=True)\n",
    "mcts_1000_memory.drop(\"Unnamed: 0\", axis=1, inplace=True)\n",
    "mcts_mcts_01_1000.drop(\"Unnamed: 0\", axis=1, inplace=True)\n",
    "mcts_mcts_01_1000_2_1000_games.drop(\"Unnamed: 0\", axis=1, inplace=True)\n",
    "mcts_mcts_02_1000.drop(\"Unnamed: 0\", axis=1, inplace=True)\n",
    "mcts_mcts_02_1000_2.drop(\"Unnamed: 0\", axis=1, inplace=True)\n",
    "combined_mcts.drop(\"Unnamed: 0\",axis=1,inplace=True)"
   ]
  },
  {
   "cell_type": "code",
   "execution_count": 88,
   "metadata": {},
   "outputs": [
    {
     "data": {
      "text/html": [
       "<div>\n",
       "<style scoped>\n",
       "    .dataframe tbody tr th:only-of-type {\n",
       "        vertical-align: middle;\n",
       "    }\n",
       "\n",
       "    .dataframe tbody tr th {\n",
       "        vertical-align: top;\n",
       "    }\n",
       "\n",
       "    .dataframe thead th {\n",
       "        text-align: right;\n",
       "    }\n",
       "</style>\n",
       "<table border=\"1\" class=\"dataframe\">\n",
       "  <thead>\n",
       "    <tr style=\"text-align: right;\">\n",
       "      <th></th>\n",
       "      <th>game_nr</th>\n",
       "      <th>num_iter</th>\n",
       "      <th>mcts_color</th>\n",
       "      <th>winner</th>\n",
       "    </tr>\n",
       "  </thead>\n",
       "  <tbody>\n",
       "    <tr>\n",
       "      <th>0</th>\n",
       "      <td>0</td>\n",
       "      <td>10</td>\n",
       "      <td>white (X)</td>\n",
       "      <td>white (X)</td>\n",
       "    </tr>\n",
       "    <tr>\n",
       "      <th>1</th>\n",
       "      <td>1</td>\n",
       "      <td>10</td>\n",
       "      <td>black (O)</td>\n",
       "      <td>black (O)</td>\n",
       "    </tr>\n",
       "    <tr>\n",
       "      <th>2</th>\n",
       "      <td>2</td>\n",
       "      <td>10</td>\n",
       "      <td>white (X)</td>\n",
       "      <td>NaN</td>\n",
       "    </tr>\n",
       "    <tr>\n",
       "      <th>3</th>\n",
       "      <td>3</td>\n",
       "      <td>10</td>\n",
       "      <td>black (O)</td>\n",
       "      <td>black (O)</td>\n",
       "    </tr>\n",
       "    <tr>\n",
       "      <th>4</th>\n",
       "      <td>4</td>\n",
       "      <td>10</td>\n",
       "      <td>white (X)</td>\n",
       "      <td>NaN</td>\n",
       "    </tr>\n",
       "    <tr>\n",
       "      <th>...</th>\n",
       "      <td>...</td>\n",
       "      <td>...</td>\n",
       "      <td>...</td>\n",
       "      <td>...</td>\n",
       "    </tr>\n",
       "    <tr>\n",
       "      <th>95</th>\n",
       "      <td>95</td>\n",
       "      <td>1000</td>\n",
       "      <td>black (O)</td>\n",
       "      <td>NaN</td>\n",
       "    </tr>\n",
       "    <tr>\n",
       "      <th>96</th>\n",
       "      <td>96</td>\n",
       "      <td>1000</td>\n",
       "      <td>white (X)</td>\n",
       "      <td>white (X)</td>\n",
       "    </tr>\n",
       "    <tr>\n",
       "      <th>97</th>\n",
       "      <td>97</td>\n",
       "      <td>1000</td>\n",
       "      <td>black (O)</td>\n",
       "      <td>black (O)</td>\n",
       "    </tr>\n",
       "    <tr>\n",
       "      <th>98</th>\n",
       "      <td>98</td>\n",
       "      <td>1000</td>\n",
       "      <td>white (X)</td>\n",
       "      <td>black (O)</td>\n",
       "    </tr>\n",
       "    <tr>\n",
       "      <th>99</th>\n",
       "      <td>99</td>\n",
       "      <td>1000</td>\n",
       "      <td>black (O)</td>\n",
       "      <td>white (X)</td>\n",
       "    </tr>\n",
       "  </tbody>\n",
       "</table>\n",
       "<p>1000 rows × 4 columns</p>\n",
       "</div>"
      ],
      "text/plain": [
       "    game_nr  num_iter mcts_color     winner\n",
       "0         0        10  white (X)  white (X)\n",
       "1         1        10  black (O)  black (O)\n",
       "2         2        10  white (X)        NaN\n",
       "3         3        10  black (O)  black (O)\n",
       "4         4        10  white (X)        NaN\n",
       "..      ...       ...        ...        ...\n",
       "95       95      1000  black (O)        NaN\n",
       "96       96      1000  white (X)  white (X)\n",
       "97       97      1000  black (O)  black (O)\n",
       "98       98      1000  white (X)  black (O)\n",
       "99       99      1000  black (O)  white (X)\n",
       "\n",
       "[1000 rows x 4 columns]"
      ]
     },
     "execution_count": 88,
     "metadata": {},
     "output_type": "execute_result"
    }
   ],
   "source": [
    "combined_mcts"
   ]
  },
  {
   "cell_type": "code",
   "execution_count": 89,
   "metadata": {},
   "outputs": [
    {
     "data": {
      "text/html": [
       "<div>\n",
       "<style scoped>\n",
       "    .dataframe tbody tr th:only-of-type {\n",
       "        vertical-align: middle;\n",
       "    }\n",
       "\n",
       "    .dataframe tbody tr th {\n",
       "        vertical-align: top;\n",
       "    }\n",
       "\n",
       "    .dataframe thead th {\n",
       "        text-align: right;\n",
       "    }\n",
       "</style>\n",
       "<table border=\"1\" class=\"dataframe\">\n",
       "  <thead>\n",
       "    <tr style=\"text-align: right;\">\n",
       "      <th></th>\n",
       "      <th>game_nr</th>\n",
       "      <th>num_iter</th>\n",
       "      <th>mcts_color</th>\n",
       "      <th>winner</th>\n",
       "    </tr>\n",
       "  </thead>\n",
       "  <tbody>\n",
       "    <tr>\n",
       "      <th>0</th>\n",
       "      <td>0</td>\n",
       "      <td>10</td>\n",
       "      <td>white (X)</td>\n",
       "      <td>white (X)</td>\n",
       "    </tr>\n",
       "    <tr>\n",
       "      <th>1</th>\n",
       "      <td>1</td>\n",
       "      <td>10</td>\n",
       "      <td>black (O)</td>\n",
       "      <td>black (O)</td>\n",
       "    </tr>\n",
       "    <tr>\n",
       "      <th>2</th>\n",
       "      <td>2</td>\n",
       "      <td>10</td>\n",
       "      <td>white (X)</td>\n",
       "      <td>NaN</td>\n",
       "    </tr>\n",
       "    <tr>\n",
       "      <th>3</th>\n",
       "      <td>3</td>\n",
       "      <td>10</td>\n",
       "      <td>black (O)</td>\n",
       "      <td>black (O)</td>\n",
       "    </tr>\n",
       "    <tr>\n",
       "      <th>4</th>\n",
       "      <td>4</td>\n",
       "      <td>10</td>\n",
       "      <td>white (X)</td>\n",
       "      <td>NaN</td>\n",
       "    </tr>\n",
       "    <tr>\n",
       "      <th>...</th>\n",
       "      <td>...</td>\n",
       "      <td>...</td>\n",
       "      <td>...</td>\n",
       "      <td>...</td>\n",
       "    </tr>\n",
       "    <tr>\n",
       "      <th>95</th>\n",
       "      <td>95</td>\n",
       "      <td>10</td>\n",
       "      <td>black (O)</td>\n",
       "      <td>black (O)</td>\n",
       "    </tr>\n",
       "    <tr>\n",
       "      <th>96</th>\n",
       "      <td>96</td>\n",
       "      <td>10</td>\n",
       "      <td>white (X)</td>\n",
       "      <td>NaN</td>\n",
       "    </tr>\n",
       "    <tr>\n",
       "      <th>97</th>\n",
       "      <td>97</td>\n",
       "      <td>10</td>\n",
       "      <td>black (O)</td>\n",
       "      <td>black (O)</td>\n",
       "    </tr>\n",
       "    <tr>\n",
       "      <th>98</th>\n",
       "      <td>98</td>\n",
       "      <td>10</td>\n",
       "      <td>white (X)</td>\n",
       "      <td>NaN</td>\n",
       "    </tr>\n",
       "    <tr>\n",
       "      <th>99</th>\n",
       "      <td>99</td>\n",
       "      <td>10</td>\n",
       "      <td>black (O)</td>\n",
       "      <td>black (O)</td>\n",
       "    </tr>\n",
       "  </tbody>\n",
       "</table>\n",
       "<p>100 rows × 4 columns</p>\n",
       "</div>"
      ],
      "text/plain": [
       "    game_nr  num_iter mcts_color     winner\n",
       "0         0        10  white (X)  white (X)\n",
       "1         1        10  black (O)  black (O)\n",
       "2         2        10  white (X)        NaN\n",
       "3         3        10  black (O)  black (O)\n",
       "4         4        10  white (X)        NaN\n",
       "..      ...       ...        ...        ...\n",
       "95       95        10  black (O)  black (O)\n",
       "96       96        10  white (X)        NaN\n",
       "97       97        10  black (O)  black (O)\n",
       "98       98        10  white (X)        NaN\n",
       "99       99        10  black (O)  black (O)\n",
       "\n",
       "[100 rows x 4 columns]"
      ]
     },
     "execution_count": 89,
     "metadata": {},
     "output_type": "execute_result"
    }
   ],
   "source": [
    "mcts_10"
   ]
  },
  {
   "cell_type": "code",
   "execution_count": 90,
   "metadata": {},
   "outputs": [
    {
     "data": {
      "text/plain": [
       "11"
      ]
     },
     "execution_count": 90,
     "metadata": {},
     "output_type": "execute_result"
    }
   ],
   "source": [
    "mcts_1000[\"winner\"].isna().sum()"
   ]
  },
  {
   "cell_type": "code",
   "execution_count": 91,
   "metadata": {},
   "outputs": [
    {
     "name": "stdout",
     "output_type": "stream",
     "text": [
      "The MCTS_10 has won 49 out of 100 games against Baseline Model.\n",
      "The MCTS_10 has tied 25 out of 100 games against Baseline Model.\n",
      "The MCTS_10 has lost 26 out of 100 games against Baseline Model.\n"
     ]
    }
   ],
   "source": [
    "mcts_10_wins = mcts_10[mcts_10[\"winner\"] == mcts_10[\"mcts_color\"]].value_counts()\n",
    "mcts_10_draws = mcts_10[\"winner\"].isna().sum()\n",
    "mcts_10_losses = mcts_10[mcts_10[\"winner\"] != mcts_10[\"mcts_color\"]].value_counts()\n",
    "\n",
    "print(f\"The MCTS_10 has won {mcts_10_wins.shape[0]} out of 100 games against Baseline Model.\")\n",
    "print(f\"The MCTS_10 has tied {mcts_10_draws} out of 100 games against Baseline Model.\")\n",
    "print(f\"The MCTS_10 has lost {mcts_10_losses.shape[0]} out of 100 games against Baseline Model.\")"
   ]
  },
  {
   "cell_type": "code",
   "execution_count": 92,
   "metadata": {},
   "outputs": [
    {
     "name": "stdout",
     "output_type": "stream",
     "text": [
      "The MCTS_20 has won 57 out of 100 games against Baseline Model.\n",
      "The MCTS_20 has tied 25 out of 100 games against Baseline Model.\n",
      "The MCTS_20 has lost 18 out of 100 games against Baseline Model.\n"
     ]
    }
   ],
   "source": [
    "mcts_20_wins = mcts_20[mcts_20[\"winner\"] == mcts_20[\"mcts_color\"]].value_counts()\n",
    "mcts_20_draws = mcts_20[\"winner\"].isna().sum()\n",
    "mcts_20_losses = mcts_20[mcts_20[\"winner\"] != mcts_20[\"mcts_color\"]].value_counts()\n",
    "\n",
    "print(f\"The MCTS_20 has won {mcts_20_wins.shape[0]} out of 100 games against Baseline Model.\")\n",
    "print(f\"The MCTS_20 has tied {mcts_20_draws} out of 100 games against Baseline Model.\")\n",
    "print(f\"The MCTS_20 has lost {mcts_20_losses.shape[0]} out of 100 games against Baseline Model.\")"
   ]
  },
  {
   "cell_type": "code",
   "execution_count": 93,
   "metadata": {},
   "outputs": [
    {
     "name": "stdout",
     "output_type": "stream",
     "text": [
      "The MCTS_50 has won 54 out of 100 games against Baseline Model.\n",
      "The MCTS_50 has tied 31 out of 100 games against Baseline Model.\n",
      "The MCTS_50 has lost 15 out of 100 games against Baseline Model.\n"
     ]
    }
   ],
   "source": [
    "mcts_50_wins = mcts_50[mcts_50[\"winner\"] == mcts_50[\"mcts_color\"]].value_counts()\n",
    "mcts_50_draws = mcts_50[\"winner\"].isna().sum()\n",
    "mcts_50_losses = mcts_50[mcts_50[\"winner\"] != mcts_50[\"mcts_color\"]].value_counts()\n",
    "\n",
    "print(f\"The MCTS_50 has won {mcts_50_wins.shape[0]} out of 100 games against Baseline Model.\")\n",
    "print(f\"The MCTS_50 has tied {mcts_50_draws} out of 100 games against Baseline Model.\")\n",
    "print(f\"The MCTS_50 has lost {mcts_50_losses.shape[0]} out of 100 games against Baseline Model.\")"
   ]
  },
  {
   "cell_type": "code",
   "execution_count": 94,
   "metadata": {},
   "outputs": [
    {
     "name": "stdout",
     "output_type": "stream",
     "text": [
      "The MCTS_100 has won 70 out of 100 games against Baseline Model.\n",
      "The MCTS_100 has tied 24 out of 100 games against Baseline Model.\n",
      "The MCTS_100 has lost 6 out of 100 games against Baseline Model.\n"
     ]
    }
   ],
   "source": [
    "mcts_100_wins = mcts_100[mcts_100[\"winner\"] == mcts_100[\"mcts_color\"]].value_counts()\n",
    "mcts_100_draws = mcts_100[\"winner\"].isna().sum()\n",
    "mcts_100_losses = mcts_100[mcts_100[\"winner\"] != mcts_100[\"mcts_color\"]].value_counts()\n",
    "\n",
    "print(f\"The MCTS_100 has won {mcts_100_wins.shape[0]} out of 100 games against Baseline Model.\")\n",
    "print(f\"The MCTS_100 has tied {mcts_100_draws} out of 100 games against Baseline Model.\")\n",
    "print(f\"The MCTS_100 has lost {mcts_100_losses.shape[0]} out of 100 games against Baseline Model.\")"
   ]
  },
  {
   "cell_type": "code",
   "execution_count": 95,
   "metadata": {},
   "outputs": [
    {
     "name": "stdout",
     "output_type": "stream",
     "text": [
      "The MCTS_500 has won 79 out of 100 games against Baseline Model.\n",
      "The MCTS_500 has tied 14 out of 100 games against Baseline Model.\n",
      "The MCTS_500 has lost 7 out of 100 games against Baseline Model.\n"
     ]
    }
   ],
   "source": [
    "mcts_500_wins = mcts_500[mcts_500[\"winner\"] == mcts_500[\"mcts_color\"]].value_counts()\n",
    "mcts_500_draws = mcts_500[\"winner\"].isna().sum()\n",
    "mcts_500_losses = mcts_500[mcts_500[\"winner\"] != mcts_500[\"mcts_color\"]].value_counts()\n",
    "\n",
    "print(f\"The MCTS_500 has won {mcts_500_wins.shape[0]} out of 100 games against Baseline Model.\")\n",
    "print(f\"The MCTS_500 has tied {mcts_500_draws} out of 100 games against Baseline Model.\")\n",
    "print(f\"The MCTS_500 has lost {mcts_500_losses.shape[0]} out of 100 games against Baseline Model.\")"
   ]
  },
  {
   "cell_type": "code",
   "execution_count": 96,
   "metadata": {},
   "outputs": [
    {
     "name": "stdout",
     "output_type": "stream",
     "text": [
      "The MCTS_1000 has won 81 out of 100 games against Baseline Model.\n",
      "The MCTS_1000 has tied 11 out of 100 games against Baseline Model.\n",
      "The MCTS_1000 has lost 8 out of 100 games against Baseline Model.\n"
     ]
    }
   ],
   "source": [
    "mcts_1000_wins = mcts_1000[mcts_1000[\"winner\"] == mcts_1000[\"mcts_color\"]].value_counts()\n",
    "mcts_1000_draws = mcts_1000[\"winner\"].isna().sum()\n",
    "mcts_1000_losses = mcts_1000[mcts_1000[\"winner\"] != mcts_1000[\"mcts_color\"]].value_counts()\n",
    "\n",
    "print(f\"The MCTS_1000 has won {mcts_1000_wins.shape[0]} out of 100 games against Baseline Model.\")\n",
    "print(f\"The MCTS_1000 has tied {mcts_1000_draws} out of 100 games against Baseline Model.\")\n",
    "print(f\"The MCTS_1000 has lost {mcts_1000_losses.shape[0]} out of 100 games against Baseline Model.\")"
   ]
  },
  {
   "cell_type": "code",
   "execution_count": 97,
   "metadata": {},
   "outputs": [
    {
     "name": "stdout",
     "output_type": "stream",
     "text": [
      "The MCTS_2000 has won 85 out of 100 games against Baseline Model.\n",
      "The MCTS_2000 has tied 13 out of 100 games against Baseline Model.\n",
      "The MCTS_2000 has lost 2 out of 100 games against Baseline Model.\n"
     ]
    }
   ],
   "source": [
    "mcts_2000_wins = mcts_2000[mcts_2000[\"winner\"] == mcts_2000[\"mcts_color\"]].value_counts()\n",
    "mcts_2000_draws = mcts_2000[\"winner\"].isna().sum()\n",
    "mcts_2000_losses = mcts_2000[mcts_2000[\"winner\"] != mcts_2000[\"mcts_color\"]].value_counts()\n",
    "\n",
    "print(f\"The MCTS_2000 has won {mcts_2000_wins.shape[0]} out of 100 games against Baseline Model.\")\n",
    "print(f\"The MCTS_2000 has tied {mcts_2000_draws} out of 100 games against Baseline Model.\")\n",
    "print(f\"The MCTS_2000 has lost {mcts_2000_losses.shape[0]} out of 100 games against Baseline Model.\")"
   ]
  },
  {
   "cell_type": "code",
   "execution_count": 98,
   "metadata": {},
   "outputs": [
    {
     "name": "stdout",
     "output_type": "stream",
     "text": [
      "The MCTS_1000_memory has won 100 out of 100 games against Baseline Model.\n",
      "The MCTS_1000_memory has tied 0 out of 100 games against Baseline Model.\n",
      "The MCTS_1000_memory has lost 0 out of 100 games against Baseline Model.\n"
     ]
    }
   ],
   "source": [
    "# Agent 01\n",
    "# iterations: 1000\n",
    "# games: 100\n",
    "# old value structure (-1, 0, 1)\n",
    "# memory created, updated 0 times\n",
    "# memory size: 1.12 GB\n",
    "\n",
    "mcts_1000_memory_wins = mcts_1000_memory[mcts_1000_memory[\"winner\"] == mcts_1000_memory[\"mcts_color\"]].value_counts()\n",
    "mcts_1000_memory_draws = mcts_1000_memory[\"winner\"].isna().sum()\n",
    "mcts_1000_memory_losses = mcts_1000_memory[mcts_1000_memory[\"winner\"] != mcts_1000_memory[\"mcts_color\"]].value_counts()\n",
    "\n",
    "print(f\"The MCTS_1000_memory has won {mcts_1000_memory_wins.shape[0]} out of 100 games against Baseline Model.\")\n",
    "print(f\"The MCTS_1000_memory has tied {mcts_1000_memory_draws} out of 100 games against Baseline Model.\")\n",
    "print(f\"The MCTS_1000_memory has lost {mcts_1000_memory_losses.shape[0]} out of 100 games against Baseline Model.\")"
   ]
  },
  {
   "cell_type": "code",
   "execution_count": 99,
   "metadata": {},
   "outputs": [
    {
     "name": "stdout",
     "output_type": "stream",
     "text": [
      "The MCTS_mcts_01_1000 has won 50 out of 100 games against MCTS (no memory).\n",
      "The MCTS_mcts_01_1000 has tied 11 out of 100 games against MCTS (no memory).\n",
      "The MCTS_mcts_01_1000 has lost 39 out of 100 games against MCTS (no memory).\n"
     ]
    }
   ],
   "source": [
    "# Agent 01 \n",
    "# iterations: 1000\n",
    "# games: 100\n",
    "# old value structure (-1, 0, 1)\n",
    "# memory created, updated 0 times\n",
    "# memory size: 1.12 GB\n",
    "\n",
    "mcts_mcts_01_1000_wins = mcts_mcts_01_1000[mcts_mcts_01_1000[\"winner\"] == mcts_mcts_01_1000[\"mcts_color\"]].value_counts()\n",
    "mcts_mcts_01_1000_draws = mcts_mcts_01_1000[\"winner\"].isna().sum()\n",
    "mcts_mcts_01_1000_losses = mcts_mcts_01_1000[mcts_mcts_01_1000[\"winner\"] != mcts_mcts_01_1000[\"mcts_color\"]].value_counts()\n",
    "\n",
    "print(f\"The MCTS_mcts_01_1000 has won {mcts_mcts_01_1000_wins.shape[0]} out of 100 games against MCTS (no memory).\")\n",
    "print(f\"The MCTS_mcts_01_1000 has tied {mcts_mcts_01_1000_draws} out of 100 games against MCTS (no memory).\")\n",
    "print(f\"The MCTS_mcts_01_1000 has lost {mcts_mcts_01_1000_losses.shape[0]} out of 100 games against MCTS (no memory).\")"
   ]
  },
  {
   "cell_type": "code",
   "execution_count": 100,
   "metadata": {},
   "outputs": [
    {
     "name": "stdout",
     "output_type": "stream",
     "text": [
      "The MCTS_mcts_01_1000_2_1000_games has won 458 out of 1000 games against MCTS (no memory).\n",
      "The MCTS_mcts_01_1000_2_1000_games has tied 140 out of 1000 games against MCTS (no memory).\n",
      "The MCTS_mcts_01_1000_2_1000_games has lost 402 out of 1000 games against MCTS (no memory).\n"
     ]
    }
   ],
   "source": [
    "mcts_mcts_01_1000_2_1000_games_wins = mcts_mcts_01_1000_2_1000_games[mcts_mcts_01_1000_2_1000_games[\"winner\"] == mcts_mcts_01_1000_2_1000_games[\"mcts_color\"]].value_counts()\n",
    "mcts_mcts_01_1000_2_1000_games_draws = mcts_mcts_01_1000_2_1000_games[\"winner\"].isna().sum()\n",
    "mcts_mcts_01_1000_2_1000_games_losses = mcts_mcts_01_1000_2_1000_games[mcts_mcts_01_1000_2_1000_games[\"winner\"] != mcts_mcts_01_1000_2_1000_games[\"mcts_color\"]].value_counts()\n",
    "\n",
    "print(f\"The MCTS_mcts_01_1000_2_1000_games has won {mcts_mcts_01_1000_2_1000_games_wins.shape[0]} out of 1000 games against MCTS (no memory).\")\n",
    "print(f\"The MCTS_mcts_01_1000_2_1000_games has tied {mcts_mcts_01_1000_2_1000_games_draws} out of 1000 games against MCTS (no memory).\")\n",
    "print(f\"The MCTS_mcts_01_1000_2_1000_games has lost {mcts_mcts_01_1000_2_1000_games_losses.shape[0]} out of 1000 games against MCTS (no memory).\")"
   ]
  },
  {
   "cell_type": "code",
   "execution_count": 101,
   "metadata": {},
   "outputs": [
    {
     "name": "stdout",
     "output_type": "stream",
     "text": [
      "The MCTS_mcts_02_1000 has won 40 out of 100 games against MCTS (no memory).\n",
      "The MCTS_mcts_02_1000 has tied 26 out of 100 games against MCTS (no memory).\n",
      "The MCTS_mcts_02_1000 has lost 34 out of 100 games against MCTS (no memory).\n"
     ]
    }
   ],
   "source": [
    "# Agent 02 \n",
    "# iterations: 1000\n",
    "# games: 100\n",
    "# updated value structure (0, 0.5, 1)\n",
    "# memory created, updated 1 time\n",
    "# memory size used: 1.15 GB\n",
    "\n",
    "mcts_mcts_02_1000_wins = mcts_mcts_02_1000[mcts_mcts_02_1000[\"winner\"] == mcts_mcts_02_1000[\"mcts_color\"]].value_counts()\n",
    "mcts_mcts_02_1000_draws = mcts_mcts_02_1000[\"winner\"].isna().sum()\n",
    "mcts_mcts_02_1000_losses = mcts_mcts_02_1000[mcts_mcts_02_1000[\"winner\"] != mcts_mcts_02_1000[\"mcts_color\"]].value_counts()\n",
    "\n",
    "print(f\"The MCTS_mcts_02_1000 has won {mcts_mcts_02_1000_wins.shape[0]} out of 100 games against MCTS (no memory).\")\n",
    "print(f\"The MCTS_mcts_02_1000 has tied {mcts_mcts_02_1000_draws} out of 100 games against MCTS (no memory).\")\n",
    "print(f\"The MCTS_mcts_02_1000 has lost {mcts_mcts_02_1000_losses.shape[0]} out of 100 games against MCTS (no memory).\")"
   ]
  },
  {
   "cell_type": "code",
   "execution_count": 102,
   "metadata": {},
   "outputs": [
    {
     "name": "stdout",
     "output_type": "stream",
     "text": [
      "The MCTS_mcts_02_1000_2 has won 48 out of 100 games against MCTS (no memory).\n",
      "The MCTS_mcts_02_1000_2 has tied 24 out of 100 games against MCTS (no memory).\n",
      "The MCTS_mcts_02_1000_2 has lost 28 out of 100 games against MCTS (no memory).\n"
     ]
    }
   ],
   "source": [
    "# Agent 02 \n",
    "# iterations: 1000\n",
    "# games: 100\n",
    "# updated value structure (0, 0.5, 1)\n",
    "# memory created, updated 2 times\n",
    "# memory size used: 2.03 GB\n",
    "\n",
    "mcts_mcts_02_1000_2_wins = mcts_mcts_02_1000_2[mcts_mcts_02_1000_2[\"winner\"] == mcts_mcts_02_1000_2[\"mcts_color\"]].value_counts()\n",
    "mcts_mcts_02_1000_2_draws = mcts_mcts_02_1000_2[\"winner\"].isna().sum()\n",
    "mcts_mcts_02_1000_2_losses = mcts_mcts_02_1000_2[mcts_mcts_02_1000_2[\"winner\"] != mcts_mcts_02_1000_2[\"mcts_color\"]].value_counts()\n",
    "\n",
    "print(f\"The MCTS_mcts_02_1000_2 has won {mcts_mcts_02_1000_2_wins.shape[0]} out of 100 games against MCTS (no memory).\")\n",
    "print(f\"The MCTS_mcts_02_1000_2 has tied {mcts_mcts_02_1000_2_draws} out of 100 games against MCTS (no memory).\")\n",
    "print(f\"The MCTS_mcts_02_1000_2 has lost {mcts_mcts_02_1000_2_losses.shape[0]} out of 100 games against MCTS (no memory).\")"
   ]
  },
  {
   "cell_type": "code",
   "execution_count": 103,
   "metadata": {},
   "outputs": [
    {
     "name": "stdout",
     "output_type": "stream",
     "text": [
      "The MCTS_mcts_02_1000_3 has won 51 out of 100 games against MCTS (no memory).\n",
      "The MCTS_mcts_02_1000_3 has tied 23 out of 100 games against MCTS (no memory).\n",
      "The MCTS_mcts_02_1000_3 has lost 26 out of 100 games against MCTS (no memory).\n"
     ]
    }
   ],
   "source": [
    "# Agent 02 \n",
    "# iterations: 1000\n",
    "# games: 100\n",
    "# updated value structure (0, 0.5, 1)\n",
    "# memory created, updated 3 times\n",
    "# memory size used: 2.95 GB\n",
    "\n",
    "mcts_mcts_02_1000_3_wins = mcts_mcts_02_1000_3[mcts_mcts_02_1000_3[\"winner\"] == mcts_mcts_02_1000_3[\"mcts_color\"]].value_counts()\n",
    "mcts_mcts_02_1000_3_draws = mcts_mcts_02_1000_3[\"winner\"].isna().sum()\n",
    "mcts_mcts_02_1000_3_losses = mcts_mcts_02_1000_3[mcts_mcts_02_1000_3[\"winner\"] != mcts_mcts_02_1000_3[\"mcts_color\"]].value_counts()\n",
    "\n",
    "print(f\"The MCTS_mcts_02_1000_3 has won {mcts_mcts_02_1000_3_wins.shape[0]} out of 100 games against MCTS (no memory).\")\n",
    "print(f\"The MCTS_mcts_02_1000_3 has tied {mcts_mcts_02_1000_3_draws} out of 100 games against MCTS (no memory).\")\n",
    "print(f\"The MCTS_mcts_02_1000_3 has lost {mcts_mcts_02_1000_3_losses.shape[0]} out of 100 games against MCTS (no memory).\")"
   ]
  },
  {
   "cell_type": "code",
   "execution_count": 104,
   "metadata": {},
   "outputs": [],
   "source": [
    "#mcts"
   ]
  },
  {
   "cell_type": "code",
   "execution_count": 105,
   "metadata": {},
   "outputs": [],
   "source": [
    "filtered_data = combined_mcts[combined_mcts[\"winner\"] == combined_mcts[\"mcts_color\"]]\n"
   ]
  },
  {
   "cell_type": "code",
   "execution_count": 106,
   "metadata": {},
   "outputs": [
    {
     "data": {
      "text/html": [
       "<div>\n",
       "<style scoped>\n",
       "    .dataframe tbody tr th:only-of-type {\n",
       "        vertical-align: middle;\n",
       "    }\n",
       "\n",
       "    .dataframe tbody tr th {\n",
       "        vertical-align: top;\n",
       "    }\n",
       "\n",
       "    .dataframe thead th {\n",
       "        text-align: right;\n",
       "    }\n",
       "</style>\n",
       "<table border=\"1\" class=\"dataframe\">\n",
       "  <thead>\n",
       "    <tr style=\"text-align: right;\">\n",
       "      <th></th>\n",
       "      <th>game_nr</th>\n",
       "      <th>num_iter</th>\n",
       "      <th>mcts_color</th>\n",
       "      <th>winner</th>\n",
       "    </tr>\n",
       "  </thead>\n",
       "  <tbody>\n",
       "    <tr>\n",
       "      <th>0</th>\n",
       "      <td>0</td>\n",
       "      <td>10</td>\n",
       "      <td>white (X)</td>\n",
       "      <td>white (X)</td>\n",
       "    </tr>\n",
       "    <tr>\n",
       "      <th>1</th>\n",
       "      <td>1</td>\n",
       "      <td>10</td>\n",
       "      <td>black (O)</td>\n",
       "      <td>black (O)</td>\n",
       "    </tr>\n",
       "    <tr>\n",
       "      <th>3</th>\n",
       "      <td>3</td>\n",
       "      <td>10</td>\n",
       "      <td>black (O)</td>\n",
       "      <td>black (O)</td>\n",
       "    </tr>\n",
       "    <tr>\n",
       "      <th>6</th>\n",
       "      <td>6</td>\n",
       "      <td>10</td>\n",
       "      <td>white (X)</td>\n",
       "      <td>white (X)</td>\n",
       "    </tr>\n",
       "    <tr>\n",
       "      <th>12</th>\n",
       "      <td>12</td>\n",
       "      <td>10</td>\n",
       "      <td>white (X)</td>\n",
       "      <td>white (X)</td>\n",
       "    </tr>\n",
       "  </tbody>\n",
       "</table>\n",
       "</div>"
      ],
      "text/plain": [
       "    game_nr  num_iter mcts_color     winner\n",
       "0         0        10  white (X)  white (X)\n",
       "1         1        10  black (O)  black (O)\n",
       "3         3        10  black (O)  black (O)\n",
       "6         6        10  white (X)  white (X)\n",
       "12       12        10  white (X)  white (X)"
      ]
     },
     "execution_count": 106,
     "metadata": {},
     "output_type": "execute_result"
    }
   ],
   "source": [
    "filtered_data.head()"
   ]
  },
  {
   "cell_type": "code",
   "execution_count": 107,
   "metadata": {},
   "outputs": [],
   "source": [
    "win_data = combined_mcts[(combined_mcts[\"mcts_color\"] == combined_mcts[\"winner\"]) & ~combined_mcts[\"winner\"].isna()]\n",
    "loss_data = combined_mcts[(combined_mcts[\"mcts_color\"] != combined_mcts[\"winner\"]) & ~combined_mcts[\"winner\"].isna()]\n",
    "draw_data = combined_mcts[combined_mcts[\"winner\"].isna()]"
   ]
  },
  {
   "cell_type": "code",
   "execution_count": 108,
   "metadata": {},
   "outputs": [
    {
     "name": "stderr",
     "output_type": "stream",
     "text": [
      "/Users/paulkotyrba/miniforge3/envs/ds-kickstarter-tensorflow/lib/python3.11/site-packages/seaborn/_oldcore.py:1498: FutureWarning: is_categorical_dtype is deprecated and will be removed in a future version. Use isinstance(dtype, CategoricalDtype) instead\n",
      "  if pd.api.types.is_categorical_dtype(vector):\n",
      "/Users/paulkotyrba/miniforge3/envs/ds-kickstarter-tensorflow/lib/python3.11/site-packages/seaborn/_oldcore.py:1498: FutureWarning: is_categorical_dtype is deprecated and will be removed in a future version. Use isinstance(dtype, CategoricalDtype) instead\n",
      "  if pd.api.types.is_categorical_dtype(vector):\n",
      "/Users/paulkotyrba/miniforge3/envs/ds-kickstarter-tensorflow/lib/python3.11/site-packages/seaborn/_oldcore.py:1498: FutureWarning: is_categorical_dtype is deprecated and will be removed in a future version. Use isinstance(dtype, CategoricalDtype) instead\n",
      "  if pd.api.types.is_categorical_dtype(vector):\n",
      "/Users/paulkotyrba/miniforge3/envs/ds-kickstarter-tensorflow/lib/python3.11/site-packages/seaborn/_oldcore.py:1498: FutureWarning: is_categorical_dtype is deprecated and will be removed in a future version. Use isinstance(dtype, CategoricalDtype) instead\n",
      "  if pd.api.types.is_categorical_dtype(vector):\n"
     ]
    },
    {
     "data": {
      "image/png": "[encoded data removed]",
      "text/plain": [
       "<Figure size 640x480 with 1 Axes>"
      ]
     },
     "metadata": {},
     "output_type": "display_data"
    }
   ],
   "source": [
    "\n",
    "# Create a new DataFrame for plotting\n",
    "plot_data = pd.DataFrame({\n",
    "    'num_iter': combined_mcts['num_iter'].unique(),\n",
    "    'Win': win_data.groupby('num_iter').size(),\n",
    "    'Loss': loss_data.groupby('num_iter').size(),\n",
    "    'Draw': draw_data.groupby('num_iter').size().fillna(0)\n",
    "})\n",
    "\n",
    "# Melt the DataFrame for Seaborn\n",
    "plot_data_melted = pd.melt(plot_data, id_vars='num_iter', var_name='Outcome', value_name='Count')\n",
    "\n",
    "# Create a bar plot\n",
    "sns.barplot(data=plot_data_melted, x='num_iter', y='Count', hue='Outcome')\n",
    "\n",
    "# Set plot labels and title\n",
    "plt.xlabel('Iterations')\n",
    "plt.ylabel('Count')\n",
    "plt.title('Outcome Counts for Different Iterations')\n",
    "\n",
    "# Show the plot\n",
    "plt.show()"
   ]
  }
 ],
 "metadata": {
  "kernelspec": {
   "display_name": "ds-uttt",
   "language": "python",
   "name": "python3"
  },
  "language_info": {
   "codemirror_mode": {
    "name": "ipython",
    "version": 3
   },
   "file_extension": ".py",
   "mimetype": "text/x-python",
   "name": "python",
   "nbconvert_exporter": "python",
   "pygments_lexer": "ipython3",
   "version": "3.11.5"
  }
 },
 "nbformat": 4,
 "nbformat_minor": 2
}
