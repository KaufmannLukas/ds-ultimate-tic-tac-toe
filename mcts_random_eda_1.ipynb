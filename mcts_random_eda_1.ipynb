{
 "cells": [
  {
   "cell_type": "code",
   "execution_count": 48,
   "metadata": {},
   "outputs": [],
   "source": [
    "import pandas as pd\n",
    "import matplotlib.pyplot as plt\n",
    "import seaborn as sns\n",
    "import numpy as np"
   ]
  },
  {
   "cell_type": "code",
   "execution_count": 49,
   "metadata": {},
   "outputs": [],
   "source": [
    "mcts_10 = pd.read_csv(\"data/random_vs_mcts_10.csv\")\n",
    "mcts_20 = pd.read_csv(\"data/random_vs_mcts_20.csv\")\n",
    "mcts_50 = pd.read_csv(\"data/random_vs_mcts_50.csv\")\n",
    "mcts_100 = pd.read_csv(\"data/random_vs_mcts_100.csv\")\n",
    "mcts_500 = pd.read_csv(\"data/random_vs_mcts_500.csv\")\n",
    "mcts_1000 = pd.read_csv(\"data/random_vs_mcts_1000.csv\")\n",
    "mcts_2000 = pd.read_csv(\"data/random_vs_mcts_2000.csv\")\n",
    "mcts_1000_memory = pd.read_csv(\"data/random_vs_mcts_1000_memory_1.csv\")\n",
    "mcts_mcts_01_1000 = pd.read_csv(\"data/mcts_no_mem_vs_mcts_agent_01_1000.csv\")\n",
    "mcts_mcts_01_1000_2_1000_games = pd.read_csv(\"data/mcts_no_mem_vs_mcts_agent_01_2_1000.csv\")"
   ]
  },
  {
   "cell_type": "code",
   "execution_count": 50,
   "metadata": {},
   "outputs": [],
   "source": [
    "# mcts_10['iterations'] = 10\n",
    "# mcts_20['iterations'] = 20\n",
    "# mcts_50['iterations'] = 50\n",
    "# mcts_100['iterations'] = 100\n",
    "# mcts_500['iterations'] = 500\n",
    "# mcts_1000['iterations'] = 1000\n",
    "# mcts_2000['iterations'] = 2000\n",
    "# mcts_1000_memory['iterations'] = 1000\n",
    "# mcts_mcts_01_1000['iterations'] = 1000\n",
    "# mcts_mcts_01_1000_2_1000_games['iterations'] = 1000"
   ]
  },
  {
   "cell_type": "code",
   "execution_count": 51,
   "metadata": {},
   "outputs": [
    {
     "data": {
      "text/plain": [
       "Index(['Unnamed: 0', 'game_nr', 'num_iter', 'mcts_color', 'winner'], dtype='object')"
      ]
     },
     "execution_count": 51,
     "metadata": {},
     "output_type": "execute_result"
    }
   ],
   "source": [
    "mcts_10.columns"
   ]
  },
  {
   "cell_type": "code",
   "execution_count": 52,
   "metadata": {},
   "outputs": [],
   "source": [
    "mcts = [mcts_10,mcts_20, mcts_50, mcts_100, mcts_500, mcts_1000, mcts_2000, mcts_1000_memory, mcts_mcts_01_1000, mcts_mcts_01_1000_2_1000_games]\n",
    "\n",
    "combined_mcts = pd.concat(mcts)"
   ]
  },
  {
   "cell_type": "code",
   "execution_count": 53,
   "metadata": {},
   "outputs": [
    {
     "data": {
      "text/plain": [
       "Index(['Unnamed: 0', 'game_nr', 'num_iter', 'mcts_color', 'winner'], dtype='object')"
      ]
     },
     "execution_count": 53,
     "metadata": {},
     "output_type": "execute_result"
    }
   ],
   "source": [
    "combined_mcts.columns"
   ]
  },
  {
   "cell_type": "code",
   "execution_count": 54,
   "metadata": {},
   "outputs": [],
   "source": [
    "mcts_10.drop(\"Unnamed: 0\", axis=1, inplace=True)\n",
    "mcts_20.drop(\"Unnamed: 0\", axis=1, inplace=True)\n",
    "mcts_50.drop(\"Unnamed: 0\", axis=1, inplace=True)\n",
    "mcts_100.drop(\"Unnamed: 0\", axis=1, inplace=True)\n",
    "mcts_500.drop(\"Unnamed: 0\", axis=1, inplace=True)\n",
    "mcts_1000.drop(\"Unnamed: 0\", axis=1, inplace=True)\n",
    "mcts_2000.drop(\"Unnamed: 0\", axis=1, inplace=True)\n",
    "mcts_1000_memory.drop(\"Unnamed: 0\", axis=1, inplace=True)\n",
    "mcts_mcts_01_1000.drop(\"Unnamed: 0\", axis=1, inplace=True)\n",
    "mcts_mcts_01_1000_2_1000_games.drop(\"Unnamed: 0\", axis=1, inplace=True)\n",
    "combined_mcts.drop(\"Unnamed: 0\",axis=1,inplace=True)"
   ]
  },
  {
   "cell_type": "code",
   "execution_count": 55,
   "metadata": {},
   "outputs": [
    {
     "data": {
      "text/html": [
       "<div>\n",
       "<style scoped>\n",
       "    .dataframe tbody tr th:only-of-type {\n",
       "        vertical-align: middle;\n",
       "    }\n",
       "\n",
       "    .dataframe tbody tr th {\n",
       "        vertical-align: top;\n",
       "    }\n",
       "\n",
       "    .dataframe thead th {\n",
       "        text-align: right;\n",
       "    }\n",
       "</style>\n",
       "<table border=\"1\" class=\"dataframe\">\n",
       "  <thead>\n",
       "    <tr style=\"text-align: right;\">\n",
       "      <th></th>\n",
       "      <th>game_nr</th>\n",
       "      <th>num_iter</th>\n",
       "      <th>mcts_color</th>\n",
       "      <th>winner</th>\n",
       "    </tr>\n",
       "  </thead>\n",
       "  <tbody>\n",
       "    <tr>\n",
       "      <th>0</th>\n",
       "      <td>0</td>\n",
       "      <td>10</td>\n",
       "      <td>white (X)</td>\n",
       "      <td>white (X)</td>\n",
       "    </tr>\n",
       "    <tr>\n",
       "      <th>1</th>\n",
       "      <td>1</td>\n",
       "      <td>10</td>\n",
       "      <td>black (O)</td>\n",
       "      <td>black (O)</td>\n",
       "    </tr>\n",
       "    <tr>\n",
       "      <th>2</th>\n",
       "      <td>2</td>\n",
       "      <td>10</td>\n",
       "      <td>white (X)</td>\n",
       "      <td>NaN</td>\n",
       "    </tr>\n",
       "    <tr>\n",
       "      <th>3</th>\n",
       "      <td>3</td>\n",
       "      <td>10</td>\n",
       "      <td>black (O)</td>\n",
       "      <td>black (O)</td>\n",
       "    </tr>\n",
       "    <tr>\n",
       "      <th>4</th>\n",
       "      <td>4</td>\n",
       "      <td>10</td>\n",
       "      <td>white (X)</td>\n",
       "      <td>NaN</td>\n",
       "    </tr>\n",
       "    <tr>\n",
       "      <th>...</th>\n",
       "      <td>...</td>\n",
       "      <td>...</td>\n",
       "      <td>...</td>\n",
       "      <td>...</td>\n",
       "    </tr>\n",
       "    <tr>\n",
       "      <th>995</th>\n",
       "      <td>995</td>\n",
       "      <td>1000</td>\n",
       "      <td>black (O)</td>\n",
       "      <td>white (X)</td>\n",
       "    </tr>\n",
       "    <tr>\n",
       "      <th>996</th>\n",
       "      <td>996</td>\n",
       "      <td>1000</td>\n",
       "      <td>white (X)</td>\n",
       "      <td>white (X)</td>\n",
       "    </tr>\n",
       "    <tr>\n",
       "      <th>997</th>\n",
       "      <td>997</td>\n",
       "      <td>1000</td>\n",
       "      <td>black (O)</td>\n",
       "      <td>black (O)</td>\n",
       "    </tr>\n",
       "    <tr>\n",
       "      <th>998</th>\n",
       "      <td>998</td>\n",
       "      <td>1000</td>\n",
       "      <td>white (X)</td>\n",
       "      <td>black (O)</td>\n",
       "    </tr>\n",
       "    <tr>\n",
       "      <th>999</th>\n",
       "      <td>999</td>\n",
       "      <td>1000</td>\n",
       "      <td>black (O)</td>\n",
       "      <td>white (X)</td>\n",
       "    </tr>\n",
       "  </tbody>\n",
       "</table>\n",
       "<p>1900 rows × 4 columns</p>\n",
       "</div>"
      ],
      "text/plain": [
       "     game_nr  num_iter mcts_color     winner\n",
       "0          0        10  white (X)  white (X)\n",
       "1          1        10  black (O)  black (O)\n",
       "2          2        10  white (X)        NaN\n",
       "3          3        10  black (O)  black (O)\n",
       "4          4        10  white (X)        NaN\n",
       "..       ...       ...        ...        ...\n",
       "995      995      1000  black (O)  white (X)\n",
       "996      996      1000  white (X)  white (X)\n",
       "997      997      1000  black (O)  black (O)\n",
       "998      998      1000  white (X)  black (O)\n",
       "999      999      1000  black (O)  white (X)\n",
       "\n",
       "[1900 rows x 4 columns]"
      ]
     },
     "execution_count": 55,
     "metadata": {},
     "output_type": "execute_result"
    }
   ],
   "source": [
    "combined_mcts"
   ]
  },
  {
   "cell_type": "code",
   "execution_count": 56,
   "metadata": {},
   "outputs": [
    {
     "data": {
      "text/html": [
       "<div>\n",
       "<style scoped>\n",
       "    .dataframe tbody tr th:only-of-type {\n",
       "        vertical-align: middle;\n",
       "    }\n",
       "\n",
       "    .dataframe tbody tr th {\n",
       "        vertical-align: top;\n",
       "    }\n",
       "\n",
       "    .dataframe thead th {\n",
       "        text-align: right;\n",
       "    }\n",
       "</style>\n",
       "<table border=\"1\" class=\"dataframe\">\n",
       "  <thead>\n",
       "    <tr style=\"text-align: right;\">\n",
       "      <th></th>\n",
       "      <th>game_nr</th>\n",
       "      <th>num_iter</th>\n",
       "      <th>mcts_color</th>\n",
       "      <th>winner</th>\n",
       "    </tr>\n",
       "  </thead>\n",
       "  <tbody>\n",
       "    <tr>\n",
       "      <th>0</th>\n",
       "      <td>0</td>\n",
       "      <td>10</td>\n",
       "      <td>white (X)</td>\n",
       "      <td>white (X)</td>\n",
       "    </tr>\n",
       "    <tr>\n",
       "      <th>1</th>\n",
       "      <td>1</td>\n",
       "      <td>10</td>\n",
       "      <td>black (O)</td>\n",
       "      <td>black (O)</td>\n",
       "    </tr>\n",
       "    <tr>\n",
       "      <th>2</th>\n",
       "      <td>2</td>\n",
       "      <td>10</td>\n",
       "      <td>white (X)</td>\n",
       "      <td>NaN</td>\n",
       "    </tr>\n",
       "    <tr>\n",
       "      <th>3</th>\n",
       "      <td>3</td>\n",
       "      <td>10</td>\n",
       "      <td>black (O)</td>\n",
       "      <td>black (O)</td>\n",
       "    </tr>\n",
       "    <tr>\n",
       "      <th>4</th>\n",
       "      <td>4</td>\n",
       "      <td>10</td>\n",
       "      <td>white (X)</td>\n",
       "      <td>NaN</td>\n",
       "    </tr>\n",
       "    <tr>\n",
       "      <th>...</th>\n",
       "      <td>...</td>\n",
       "      <td>...</td>\n",
       "      <td>...</td>\n",
       "      <td>...</td>\n",
       "    </tr>\n",
       "    <tr>\n",
       "      <th>95</th>\n",
       "      <td>95</td>\n",
       "      <td>10</td>\n",
       "      <td>black (O)</td>\n",
       "      <td>black (O)</td>\n",
       "    </tr>\n",
       "    <tr>\n",
       "      <th>96</th>\n",
       "      <td>96</td>\n",
       "      <td>10</td>\n",
       "      <td>white (X)</td>\n",
       "      <td>NaN</td>\n",
       "    </tr>\n",
       "    <tr>\n",
       "      <th>97</th>\n",
       "      <td>97</td>\n",
       "      <td>10</td>\n",
       "      <td>black (O)</td>\n",
       "      <td>black (O)</td>\n",
       "    </tr>\n",
       "    <tr>\n",
       "      <th>98</th>\n",
       "      <td>98</td>\n",
       "      <td>10</td>\n",
       "      <td>white (X)</td>\n",
       "      <td>NaN</td>\n",
       "    </tr>\n",
       "    <tr>\n",
       "      <th>99</th>\n",
       "      <td>99</td>\n",
       "      <td>10</td>\n",
       "      <td>black (O)</td>\n",
       "      <td>black (O)</td>\n",
       "    </tr>\n",
       "  </tbody>\n",
       "</table>\n",
       "<p>100 rows × 4 columns</p>\n",
       "</div>"
      ],
      "text/plain": [
       "    game_nr  num_iter mcts_color     winner\n",
       "0         0        10  white (X)  white (X)\n",
       "1         1        10  black (O)  black (O)\n",
       "2         2        10  white (X)        NaN\n",
       "3         3        10  black (O)  black (O)\n",
       "4         4        10  white (X)        NaN\n",
       "..      ...       ...        ...        ...\n",
       "95       95        10  black (O)  black (O)\n",
       "96       96        10  white (X)        NaN\n",
       "97       97        10  black (O)  black (O)\n",
       "98       98        10  white (X)        NaN\n",
       "99       99        10  black (O)  black (O)\n",
       "\n",
       "[100 rows x 4 columns]"
      ]
     },
     "execution_count": 56,
     "metadata": {},
     "output_type": "execute_result"
    }
   ],
   "source": [
    "mcts_10"
   ]
  },
  {
   "cell_type": "code",
   "execution_count": 57,
   "metadata": {},
   "outputs": [
    {
     "data": {
      "text/plain": [
       "11"
      ]
     },
     "execution_count": 57,
     "metadata": {},
     "output_type": "execute_result"
    }
   ],
   "source": [
    "mcts_1000[\"winner\"].isna().sum()"
   ]
  },
  {
   "cell_type": "code",
   "execution_count": 58,
   "metadata": {},
   "outputs": [
    {
     "name": "stdout",
     "output_type": "stream",
     "text": [
      "The MCTS_10 has won 49 out of 100 games against Baseline Model.\n",
      "The MCTS_10 has tied 25 out of 100 games against Baseline Model.\n",
      "The MCTS_10 has lost 26 out of 100 games against Baseline Model.\n"
     ]
    }
   ],
   "source": [
    "mcts_10_wins = mcts_10[mcts_10[\"winner\"] == mcts_10[\"mcts_color\"]].value_counts()\n",
    "mcts_10_draws = mcts_10[\"winner\"].isna().sum()\n",
    "mcts_10_losses = mcts_10[mcts_10[\"winner\"] != mcts_10[\"mcts_color\"]].value_counts()\n",
    "\n",
    "print(f\"The MCTS_10 has won {mcts_10_wins.shape[0]} out of 100 games against Baseline Model.\")\n",
    "print(f\"The MCTS_10 has tied {mcts_10_draws} out of 100 games against Baseline Model.\")\n",
    "print(f\"The MCTS_10 has lost {mcts_10_losses.shape[0]} out of 100 games against Baseline Model.\")"
   ]
  },
  {
   "cell_type": "code",
   "execution_count": 59,
   "metadata": {},
   "outputs": [
    {
     "name": "stdout",
     "output_type": "stream",
     "text": [
      "The MCTS_20 has won 57 out of 100 games against Baseline Model.\n",
      "The MCTS_20 has tied 25 out of 100 games against Baseline Model.\n",
      "The MCTS_20 has lost 18 out of 100 games against Baseline Model.\n"
     ]
    }
   ],
   "source": [
    "mcts_20_wins = mcts_20[mcts_20[\"winner\"] == mcts_20[\"mcts_color\"]].value_counts()\n",
    "mcts_20_draws = mcts_20[\"winner\"].isna().sum()\n",
    "mcts_20_losses = mcts_20[mcts_20[\"winner\"] != mcts_20[\"mcts_color\"]].value_counts()\n",
    "\n",
    "print(f\"The MCTS_20 has won {mcts_20_wins.shape[0]} out of 100 games against Baseline Model.\")\n",
    "print(f\"The MCTS_20 has tied {mcts_20_draws} out of 100 games against Baseline Model.\")\n",
    "print(f\"The MCTS_20 has lost {mcts_20_losses.shape[0]} out of 100 games against Baseline Model.\")"
   ]
  },
  {
   "cell_type": "code",
   "execution_count": 60,
   "metadata": {},
   "outputs": [
    {
     "name": "stdout",
     "output_type": "stream",
     "text": [
      "The MCTS_50 has won 54 out of 100 games against Baseline Model.\n",
      "The MCTS_50 has tied 31 out of 100 games against Baseline Model.\n",
      "The MCTS_50 has lost 15 out of 100 games against Baseline Model.\n"
     ]
    }
   ],
   "source": [
    "mcts_50_wins = mcts_50[mcts_50[\"winner\"] == mcts_50[\"mcts_color\"]].value_counts()\n",
    "mcts_50_draws = mcts_50[\"winner\"].isna().sum()\n",
    "mcts_50_losses = mcts_50[mcts_50[\"winner\"] != mcts_50[\"mcts_color\"]].value_counts()\n",
    "\n",
    "print(f\"The MCTS_50 has won {mcts_50_wins.shape[0]} out of 100 games against Baseline Model.\")\n",
    "print(f\"The MCTS_50 has tied {mcts_50_draws} out of 100 games against Baseline Model.\")\n",
    "print(f\"The MCTS_50 has lost {mcts_50_losses.shape[0]} out of 100 games against Baseline Model.\")"
   ]
  },
  {
   "cell_type": "code",
   "execution_count": 61,
   "metadata": {},
   "outputs": [
    {
     "name": "stdout",
     "output_type": "stream",
     "text": [
      "The MCTS_100 has won 70 out of 100 games against Baseline Model.\n",
      "The MCTS_100 has tied 24 out of 100 games against Baseline Model.\n",
      "The MCTS_100 has lost 6 out of 100 games against Baseline Model.\n"
     ]
    }
   ],
   "source": [
    "mcts_100_wins = mcts_100[mcts_100[\"winner\"] == mcts_100[\"mcts_color\"]].value_counts()\n",
    "mcts_100_draws = mcts_100[\"winner\"].isna().sum()\n",
    "mcts_100_losses = mcts_100[mcts_100[\"winner\"] != mcts_100[\"mcts_color\"]].value_counts()\n",
    "\n",
    "print(f\"The MCTS_100 has won {mcts_100_wins.shape[0]} out of 100 games against Baseline Model.\")\n",
    "print(f\"The MCTS_100 has tied {mcts_100_draws} out of 100 games against Baseline Model.\")\n",
    "print(f\"The MCTS_100 has lost {mcts_100_losses.shape[0]} out of 100 games against Baseline Model.\")"
   ]
  },
  {
   "cell_type": "code",
   "execution_count": 62,
   "metadata": {},
   "outputs": [
    {
     "name": "stdout",
     "output_type": "stream",
     "text": [
      "The MCTS_500 has won 79 out of 100 games against Baseline Model.\n",
      "The MCTS_500 has tied 14 out of 100 games against Baseline Model.\n",
      "The MCTS_500 has lost 7 out of 100 games against Baseline Model.\n"
     ]
    }
   ],
   "source": [
    "mcts_500_wins = mcts_500[mcts_500[\"winner\"] == mcts_500[\"mcts_color\"]].value_counts()\n",
    "mcts_500_draws = mcts_500[\"winner\"].isna().sum()\n",
    "mcts_500_losses = mcts_500[mcts_500[\"winner\"] != mcts_500[\"mcts_color\"]].value_counts()\n",
    "\n",
    "print(f\"The MCTS_500 has won {mcts_500_wins.shape[0]} out of 100 games against Baseline Model.\")\n",
    "print(f\"The MCTS_500 has tied {mcts_500_draws} out of 100 games against Baseline Model.\")\n",
    "print(f\"The MCTS_500 has lost {mcts_500_losses.shape[0]} out of 100 games against Baseline Model.\")"
   ]
  },
  {
   "cell_type": "code",
   "execution_count": 63,
   "metadata": {},
   "outputs": [
    {
     "name": "stdout",
     "output_type": "stream",
     "text": [
      "The MCTS_1000 has won 81 out of 100 games against Baseline Model.\n",
      "The MCTS_1000 has tied 11 out of 100 games against Baseline Model.\n",
      "The MCTS_1000 has lost 8 out of 100 games against Baseline Model.\n"
     ]
    }
   ],
   "source": [
    "mcts_1000_wins = mcts_1000[mcts_1000[\"winner\"] == mcts_1000[\"mcts_color\"]].value_counts()\n",
    "mcts_1000_draws = mcts_1000[\"winner\"].isna().sum()\n",
    "mcts_1000_losses = mcts_1000[mcts_1000[\"winner\"] != mcts_1000[\"mcts_color\"]].value_counts()\n",
    "\n",
    "print(f\"The MCTS_1000 has won {mcts_1000_wins.shape[0]} out of 100 games against Baseline Model.\")\n",
    "print(f\"The MCTS_1000 has tied {mcts_1000_draws} out of 100 games against Baseline Model.\")\n",
    "print(f\"The MCTS_1000 has lost {mcts_1000_losses.shape[0]} out of 100 games against Baseline Model.\")"
   ]
  },
  {
   "cell_type": "code",
   "execution_count": 64,
   "metadata": {},
   "outputs": [
    {
     "name": "stdout",
     "output_type": "stream",
     "text": [
      "The MCTS_2000 has won 85 out of 100 games against Baseline Model.\n",
      "The MCTS_2000 has tied 13 out of 100 games against Baseline Model.\n",
      "The MCTS_2000 has lost 2 out of 100 games against Baseline Model.\n"
     ]
    }
   ],
   "source": [
    "mcts_2000_wins = mcts_2000[mcts_2000[\"winner\"] == mcts_2000[\"mcts_color\"]].value_counts()\n",
    "mcts_2000_draws = mcts_2000[\"winner\"].isna().sum()\n",
    "mcts_2000_losses = mcts_2000[mcts_2000[\"winner\"] != mcts_2000[\"mcts_color\"]].value_counts()\n",
    "\n",
    "print(f\"The MCTS_2000 has won {mcts_2000_wins.shape[0]} out of 100 games against Baseline Model.\")\n",
    "print(f\"The MCTS_2000 has tied {mcts_2000_draws} out of 100 games against Baseline Model.\")\n",
    "print(f\"The MCTS_2000 has lost {mcts_2000_losses.shape[0]} out of 100 games against Baseline Model.\")"
   ]
  },
  {
   "cell_type": "code",
   "execution_count": 65,
   "metadata": {},
   "outputs": [
    {
     "name": "stdout",
     "output_type": "stream",
     "text": [
      "The MCTS_1000_memory has won 100 out of 100 games against Baseline Model.\n",
      "The MCTS_1000_memory has tied 0 out of 100 games against Baseline Model.\n",
      "The MCTS_1000_memory has lost 0 out of 100 games against Baseline Model.\n"
     ]
    }
   ],
   "source": [
    "mcts_1000_memory_wins = mcts_1000_memory[mcts_1000_memory[\"winner\"] == mcts_1000_memory[\"mcts_color\"]].value_counts()\n",
    "mcts_1000_memory_draws = mcts_1000_memory[\"winner\"].isna().sum()\n",
    "mcts_1000_memory_losses = mcts_1000_memory[mcts_1000_memory[\"winner\"] != mcts_1000_memory[\"mcts_color\"]].value_counts()\n",
    "\n",
    "print(f\"The MCTS_1000_memory has won {mcts_1000_memory_wins.shape[0]} out of 100 games against Baseline Model.\")\n",
    "print(f\"The MCTS_1000_memory has tied {mcts_1000_memory_draws} out of 100 games against Baseline Model.\")\n",
    "print(f\"The MCTS_1000_memory has lost {mcts_1000_memory_losses.shape[0]} out of 100 games against Baseline Model.\")"
   ]
  },
  {
   "cell_type": "code",
   "execution_count": 66,
   "metadata": {},
   "outputs": [
    {
     "name": "stdout",
     "output_type": "stream",
     "text": [
      "The MCTS_mcts_01_1000 has won 50 out of 100 games against MCTS (no memory).\n",
      "The MCTS_mcts_01_1000 has tied 11 out of 100 games against MCTS (no memory).\n",
      "The MCTS_mcts_01_1000 has lost 39 out of 100 games against MCTS (no memory).\n"
     ]
    }
   ],
   "source": [
    "mcts_mcts_01_1000_wins = mcts_mcts_01_1000[mcts_mcts_01_1000[\"winner\"] == mcts_mcts_01_1000[\"mcts_color\"]].value_counts()\n",
    "mcts_mcts_01_1000_draws = mcts_mcts_01_1000[\"winner\"].isna().sum()\n",
    "mcts_mcts_01_1000_losses = mcts_mcts_01_1000[mcts_mcts_01_1000[\"winner\"] != mcts_mcts_01_1000[\"mcts_color\"]].value_counts()\n",
    "\n",
    "print(f\"The MCTS_mcts_01_1000 has won {mcts_mcts_01_1000_wins.shape[0]} out of 100 games against MCTS (no memory).\")\n",
    "print(f\"The MCTS_mcts_01_1000 has tied {mcts_mcts_01_1000_draws} out of 100 games against MCTS (no memory).\")\n",
    "print(f\"The MCTS_mcts_01_1000 has lost {mcts_mcts_01_1000_losses.shape[0]} out of 100 games against MCTS (no memory).\")"
   ]
  },
  {
   "cell_type": "code",
   "execution_count": 67,
   "metadata": {},
   "outputs": [
    {
     "name": "stdout",
     "output_type": "stream",
     "text": [
      "The MCTS_mcts_01_1000_2_1000_games has won 458 out of 1000 games against MCTS (no memory).\n",
      "The MCTS_mcts_01_1000_2_1000_games has tied 140 out of 1000 games against MCTS (no memory).\n",
      "The MCTS_mcts_01_1000_2_1000_games has lost 402 out of 1000 games against MCTS (no memory).\n"
     ]
    }
   ],
   "source": [
    "mcts_mcts_01_1000_2_1000_games_wins = mcts_mcts_01_1000_2_1000_games[mcts_mcts_01_1000_2_1000_games[\"winner\"] == mcts_mcts_01_1000_2_1000_games[\"mcts_color\"]].value_counts()\n",
    "mcts_mcts_01_1000_2_1000_games_draws = mcts_mcts_01_1000_2_1000_games[\"winner\"].isna().sum()\n",
    "mcts_mcts_01_1000_2_1000_games_losses = mcts_mcts_01_1000_2_1000_games[mcts_mcts_01_1000_2_1000_games[\"winner\"] != mcts_mcts_01_1000_2_1000_games[\"mcts_color\"]].value_counts()\n",
    "\n",
    "print(f\"The MCTS_mcts_01_1000_2_1000_games has won {mcts_mcts_01_1000_2_1000_games_wins.shape[0]} out of 1000 games against MCTS (no memory).\")\n",
    "print(f\"The MCTS_mcts_01_1000_2_1000_games has tied {mcts_mcts_01_1000_2_1000_games_draws} out of 1000 games against MCTS (no memory).\")\n",
    "print(f\"The MCTS_mcts_01_1000_2_1000_games has lost {mcts_mcts_01_1000_2_1000_games_losses.shape[0]} out of 1000 games against MCTS (no memory).\")"
   ]
  },
  {
   "cell_type": "code",
   "execution_count": 68,
   "metadata": {},
   "outputs": [
    {
     "data": {
      "text/plain": [
       "[    game_nr  num_iter mcts_color     winner\n",
       " 0         0        10  white (X)  white (X)\n",
       " 1         1        10  black (O)  black (O)\n",
       " 2         2        10  white (X)        NaN\n",
       " 3         3        10  black (O)  black (O)\n",
       " 4         4        10  white (X)        NaN\n",
       " ..      ...       ...        ...        ...\n",
       " 95       95        10  black (O)  black (O)\n",
       " 96       96        10  white (X)        NaN\n",
       " 97       97        10  black (O)  black (O)\n",
       " 98       98        10  white (X)        NaN\n",
       " 99       99        10  black (O)  black (O)\n",
       " \n",
       " [100 rows x 4 columns],\n",
       "     game_nr  num_iter mcts_color     winner\n",
       " 0         0        20  white (X)  white (X)\n",
       " 1         1        20  black (O)        NaN\n",
       " 2         2        20  white (X)  white (X)\n",
       " 3         3        20  black (O)  white (X)\n",
       " 4         4        20  white (X)        NaN\n",
       " ..      ...       ...        ...        ...\n",
       " 95       95        20  black (O)        NaN\n",
       " 96       96        20  white (X)  white (X)\n",
       " 97       97        20  black (O)  white (X)\n",
       " 98       98        20  white (X)  black (O)\n",
       " 99       99        20  black (O)        NaN\n",
       " \n",
       " [100 rows x 4 columns],\n",
       "     game_nr  num_iter mcts_color     winner\n",
       " 0         0        50  white (X)  white (X)\n",
       " 1         1        50  black (O)        NaN\n",
       " 2         2        50  white (X)  white (X)\n",
       " 3         3        50  black (O)  black (O)\n",
       " 4         4        50  white (X)        NaN\n",
       " ..      ...       ...        ...        ...\n",
       " 95       95        50  black (O)  white (X)\n",
       " 96       96        50  white (X)  white (X)\n",
       " 97       97        50  black (O)        NaN\n",
       " 98       98        50  white (X)  white (X)\n",
       " 99       99        50  black (O)  black (O)\n",
       " \n",
       " [100 rows x 4 columns],\n",
       "     game_nr  num_iter mcts_color     winner\n",
       " 0         0       100  white (X)        NaN\n",
       " 1         1       100  black (O)        NaN\n",
       " 2         2       100  white (X)  white (X)\n",
       " 3         3       100  black (O)  black (O)\n",
       " 4         4       100  white (X)  white (X)\n",
       " ..      ...       ...        ...        ...\n",
       " 95       95       100  black (O)  white (X)\n",
       " 96       96       100  white (X)        NaN\n",
       " 97       97       100  black (O)  black (O)\n",
       " 98       98       100  white (X)  white (X)\n",
       " 99       99       100  black (O)  black (O)\n",
       " \n",
       " [100 rows x 4 columns],\n",
       "     game_nr  num_iter mcts_color     winner\n",
       " 0         0       500  white (X)  white (X)\n",
       " 1         1       500  black (O)  black (O)\n",
       " 2         2       500  white (X)  white (X)\n",
       " 3         3       500  black (O)  black (O)\n",
       " 4         4       500  white (X)  white (X)\n",
       " ..      ...       ...        ...        ...\n",
       " 95       95       500  black (O)  black (O)\n",
       " 96       96       500  white (X)        NaN\n",
       " 97       97       500  black (O)  black (O)\n",
       " 98       98       500  white (X)  white (X)\n",
       " 99       99       500  black (O)  black (O)\n",
       " \n",
       " [100 rows x 4 columns],\n",
       "     game_nr  num_iter mcts_color     winner\n",
       " 0         0      1000  white (X)  white (X)\n",
       " 1         1      1000  black (O)  black (O)\n",
       " 2         2      1000  white (X)  white (X)\n",
       " 3         3      1000  black (O)  black (O)\n",
       " 4         4      1000  white (X)  white (X)\n",
       " ..      ...       ...        ...        ...\n",
       " 95       95      1000  black (O)  white (X)\n",
       " 96       96      1000  white (X)  white (X)\n",
       " 97       97      1000  black (O)  black (O)\n",
       " 98       98      1000  white (X)  white (X)\n",
       " 99       99      1000  black (O)  black (O)\n",
       " \n",
       " [100 rows x 4 columns],\n",
       "     game_nr  num_iter mcts_color     winner\n",
       " 0         0      2000  white (X)  white (X)\n",
       " 1         1      2000  black (O)  black (O)\n",
       " 2         2      2000  white (X)  white (X)\n",
       " 3         3      2000  black (O)  black (O)\n",
       " 4         4      2000  white (X)  white (X)\n",
       " ..      ...       ...        ...        ...\n",
       " 95       95      2000  black (O)        NaN\n",
       " 96       96      2000  white (X)  white (X)\n",
       " 97       97      2000  black (O)  black (O)\n",
       " 98       98      2000  white (X)  white (X)\n",
       " 99       99      2000  black (O)  black (O)\n",
       " \n",
       " [100 rows x 4 columns],\n",
       "     game_nr  num_iter mcts_color     winner\n",
       " 0         0      1000  white (X)  white (X)\n",
       " 1         1      1000  black (O)  black (O)\n",
       " 2         2      1000  white (X)  white (X)\n",
       " 3         3      1000  black (O)  black (O)\n",
       " 4         4      1000  white (X)  white (X)\n",
       " ..      ...       ...        ...        ...\n",
       " 95       95      1000  black (O)  black (O)\n",
       " 96       96      1000  white (X)  white (X)\n",
       " 97       97      1000  black (O)  black (O)\n",
       " 98       98      1000  white (X)  white (X)\n",
       " 99       99      1000  black (O)  black (O)\n",
       " \n",
       " [100 rows x 4 columns],\n",
       "     game_nr  num_iter mcts_color     winner\n",
       " 0         0      1000  white (X)  black (O)\n",
       " 1         1      1000  black (O)  white (X)\n",
       " 2         2      1000  white (X)  white (X)\n",
       " 3         3      1000  black (O)  black (O)\n",
       " 4         4      1000  white (X)  white (X)\n",
       " ..      ...       ...        ...        ...\n",
       " 95       95      1000  black (O)  white (X)\n",
       " 96       96      1000  white (X)  white (X)\n",
       " 97       97      1000  black (O)  black (O)\n",
       " 98       98      1000  white (X)        NaN\n",
       " 99       99      1000  black (O)  white (X)\n",
       " \n",
       " [100 rows x 4 columns],\n",
       "      game_nr  num_iter mcts_color     winner\n",
       " 0          0      1000  white (X)  black (O)\n",
       " 1          1      1000  black (O)  black (O)\n",
       " 2          2      1000  white (X)  white (X)\n",
       " 3          3      1000  black (O)  black (O)\n",
       " 4          4      1000  white (X)  black (O)\n",
       " ..       ...       ...        ...        ...\n",
       " 995      995      1000  black (O)  white (X)\n",
       " 996      996      1000  white (X)  white (X)\n",
       " 997      997      1000  black (O)  black (O)\n",
       " 998      998      1000  white (X)  black (O)\n",
       " 999      999      1000  black (O)  white (X)\n",
       " \n",
       " [1000 rows x 4 columns]]"
      ]
     },
     "execution_count": 68,
     "metadata": {},
     "output_type": "execute_result"
    }
   ],
   "source": [
    "mcts"
   ]
  },
  {
   "cell_type": "code",
   "execution_count": 69,
   "metadata": {},
   "outputs": [],
   "source": [
    "filtered_data = combined_mcts[combined_mcts[\"winner\"] == combined_mcts[\"mcts_color\"]]\n"
   ]
  },
  {
   "cell_type": "code",
   "execution_count": 70,
   "metadata": {},
   "outputs": [
    {
     "data": {
      "text/html": [
       "<div>\n",
       "<style scoped>\n",
       "    .dataframe tbody tr th:only-of-type {\n",
       "        vertical-align: middle;\n",
       "    }\n",
       "\n",
       "    .dataframe tbody tr th {\n",
       "        vertical-align: top;\n",
       "    }\n",
       "\n",
       "    .dataframe thead th {\n",
       "        text-align: right;\n",
       "    }\n",
       "</style>\n",
       "<table border=\"1\" class=\"dataframe\">\n",
       "  <thead>\n",
       "    <tr style=\"text-align: right;\">\n",
       "      <th></th>\n",
       "      <th>game_nr</th>\n",
       "      <th>num_iter</th>\n",
       "      <th>mcts_color</th>\n",
       "      <th>winner</th>\n",
       "    </tr>\n",
       "  </thead>\n",
       "  <tbody>\n",
       "    <tr>\n",
       "      <th>0</th>\n",
       "      <td>0</td>\n",
       "      <td>10</td>\n",
       "      <td>white (X)</td>\n",
       "      <td>white (X)</td>\n",
       "    </tr>\n",
       "    <tr>\n",
       "      <th>1</th>\n",
       "      <td>1</td>\n",
       "      <td>10</td>\n",
       "      <td>black (O)</td>\n",
       "      <td>black (O)</td>\n",
       "    </tr>\n",
       "    <tr>\n",
       "      <th>3</th>\n",
       "      <td>3</td>\n",
       "      <td>10</td>\n",
       "      <td>black (O)</td>\n",
       "      <td>black (O)</td>\n",
       "    </tr>\n",
       "    <tr>\n",
       "      <th>6</th>\n",
       "      <td>6</td>\n",
       "      <td>10</td>\n",
       "      <td>white (X)</td>\n",
       "      <td>white (X)</td>\n",
       "    </tr>\n",
       "    <tr>\n",
       "      <th>12</th>\n",
       "      <td>12</td>\n",
       "      <td>10</td>\n",
       "      <td>white (X)</td>\n",
       "      <td>white (X)</td>\n",
       "    </tr>\n",
       "  </tbody>\n",
       "</table>\n",
       "</div>"
      ],
      "text/plain": [
       "    game_nr  num_iter mcts_color     winner\n",
       "0         0        10  white (X)  white (X)\n",
       "1         1        10  black (O)  black (O)\n",
       "3         3        10  black (O)  black (O)\n",
       "6         6        10  white (X)  white (X)\n",
       "12       12        10  white (X)  white (X)"
      ]
     },
     "execution_count": 70,
     "metadata": {},
     "output_type": "execute_result"
    }
   ],
   "source": [
    "filtered_data.head()"
   ]
  },
  {
   "cell_type": "code",
   "execution_count": 71,
   "metadata": {},
   "outputs": [],
   "source": [
    "win_data = combined_mcts[(combined_mcts[\"mcts_color\"] == combined_mcts[\"winner\"]) & ~combined_mcts[\"winner\"].isna()]\n",
    "loss_data = combined_mcts[(combined_mcts[\"mcts_color\"] != combined_mcts[\"winner\"]) & ~combined_mcts[\"winner\"].isna()]\n",
    "draw_data = combined_mcts[combined_mcts[\"winner\"].isna()]\n",
    "\n"
   ]
  },
  {
   "cell_type": "code",
   "execution_count": 78,
   "metadata": {},
   "outputs": [
    {
     "name": "stderr",
     "output_type": "stream",
     "text": [
      "/Users/paulkotyrba/miniforge3/envs/ds-kickstarter-tensorflow/lib/python3.11/site-packages/seaborn/_oldcore.py:1498: FutureWarning: is_categorical_dtype is deprecated and will be removed in a future version. Use isinstance(dtype, CategoricalDtype) instead\n",
      "  if pd.api.types.is_categorical_dtype(vector):\n",
      "/Users/paulkotyrba/miniforge3/envs/ds-kickstarter-tensorflow/lib/python3.11/site-packages/seaborn/_oldcore.py:1498: FutureWarning: is_categorical_dtype is deprecated and will be removed in a future version. Use isinstance(dtype, CategoricalDtype) instead\n",
      "  if pd.api.types.is_categorical_dtype(vector):\n",
      "/Users/paulkotyrba/miniforge3/envs/ds-kickstarter-tensorflow/lib/python3.11/site-packages/seaborn/_oldcore.py:1498: FutureWarning: is_categorical_dtype is deprecated and will be removed in a future version. Use isinstance(dtype, CategoricalDtype) instead\n",
      "  if pd.api.types.is_categorical_dtype(vector):\n",
      "/Users/paulkotyrba/miniforge3/envs/ds-kickstarter-tensorflow/lib/python3.11/site-packages/seaborn/_oldcore.py:1498: FutureWarning: is_categorical_dtype is deprecated and will be removed in a future version. Use isinstance(dtype, CategoricalDtype) instead\n",
      "  if pd.api.types.is_categorical_dtype(vector):\n"
     ]
    },
    {
     "data": {
      "image/png": "[encoded data removed]",
      "text/plain": [
       "<Figure size 640x480 with 1 Axes>"
      ]
     },
     "metadata": {},
     "output_type": "display_data"
    }
   ],
   "source": [
    "\n",
    "# Create a new DataFrame for plotting\n",
    "plot_data = pd.DataFrame({\n",
    "    'num_iter': combined_mcts['num_iter'].unique(),\n",
    "    'Win': win_data.groupby('num_iter').size(),\n",
    "    'Loss': loss_data.groupby('num_iter').size(),\n",
    "    'Draw': draw_data.groupby('num_iter').size().fillna(0)\n",
    "})\n",
    "\n",
    "# Melt the DataFrame for Seaborn\n",
    "plot_data_melted = pd.melt(plot_data, id_vars='num_iter', var_name='Outcome', value_name='Count')\n",
    "\n",
    "# Create a bar plot\n",
    "sns.barplot(data=plot_data_melted, x='num_iter', y='Count', hue='Outcome')\n",
    "\n",
    "# Set plot labels and title\n",
    "plt.xlabel('Iterations')\n",
    "plt.ylabel('Count')\n",
    "plt.title('Outcome Counts for Different Iterations')\n",
    "\n",
    "# Show the plot\n",
    "plt.show()"
   ]
  },
  {
   "cell_type": "code",
   "execution_count": null,
   "metadata": {},
   "outputs": [],
   "source": []
  }
 ],
 "metadata": {
  "kernelspec": {
   "display_name": "ds-uttt",
   "language": "python",
   "name": "python3"
  },
  "language_info": {
   "codemirror_mode": {
    "name": "ipython",
    "version": 3
   },
   "file_extension": ".py",
   "mimetype": "text/x-python",
   "name": "python",
   "nbconvert_exporter": "python",
   "pygments_lexer": "ipython3",
   "version": "3.11.5"
  }
 },
 "nbformat": 4,
 "nbformat_minor": 2
}
