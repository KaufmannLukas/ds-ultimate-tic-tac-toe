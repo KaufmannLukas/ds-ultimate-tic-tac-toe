{
 "cells": [
  {
   "cell_type": "code",
   "execution_count": 30,
   "metadata": {},
   "outputs": [],
   "source": [
    "import pandas as pd\n",
    "import matplotlib.pyplot as plt\n",
    "import seaborn as sns\n",
    "import numpy as np"
   ]
  },
  {
   "cell_type": "code",
   "execution_count": 59,
   "metadata": {},
   "outputs": [],
   "source": [
    "mcts_10 = pd.read_csv(\"data/random_vs_mcts_10.csv\")\n",
    "mcts_20 = pd.read_csv(\"data/random_vs_mcts_20.csv\")\n",
    "mcts_50 = pd.read_csv(\"data/random_vs_mcts_50.csv\")\n",
    "mcts_100 = pd.read_csv(\"data/random_vs_mcts_100.csv\")\n",
    "mcts_500 = pd.read_csv(\"data/random_vs_mcts_500.csv\")\n",
    "mcts_1000 = pd.read_csv(\"data/random_vs_mcts_1000.csv\")\n",
    "mcts_2000 = pd.read_csv(\"data/random_vs_mcts_2000.csv\")"
   ]
  },
  {
   "cell_type": "code",
   "execution_count": 26,
   "metadata": {},
   "outputs": [],
   "source": [
    "# mcts_10['iterations'] = 10\n",
    "# mcts_20['iterations'] = 20\n",
    "# mcts_50['iterations'] = 50\n",
    "# mcts_100['iterations'] = 100\n",
    "# mcts_500['iterations'] = 500\n",
    "# mcts_1000['iterations'] = 1000"
   ]
  },
  {
   "cell_type": "code",
   "execution_count": 32,
   "metadata": {},
   "outputs": [
    {
     "data": {
      "text/plain": [
       "Index(['Unnamed: 0', 'game_nr', 'num_iter', 'mcts_color', 'winner'], dtype='object')"
      ]
     },
     "execution_count": 32,
     "metadata": {},
     "output_type": "execute_result"
    }
   ],
   "source": [
    "mcts_10.columns"
   ]
  },
  {
   "cell_type": "code",
   "execution_count": 60,
   "metadata": {},
   "outputs": [],
   "source": [
    "mcts = [mcts_10,mcts_20, mcts_50, mcts_100, mcts_500, mcts_1000, mcts_2000]\n",
    "\n",
    "combined_mcts = pd.concat(mcts)"
   ]
  },
  {
   "cell_type": "code",
   "execution_count": 34,
   "metadata": {},
   "outputs": [
    {
     "data": {
      "text/plain": [
       "Index(['Unnamed: 0', 'game_nr', 'num_iter', 'mcts_color', 'winner'], dtype='object')"
      ]
     },
     "execution_count": 34,
     "metadata": {},
     "output_type": "execute_result"
    }
   ],
   "source": [
    "combined_mcts.columns"
   ]
  },
  {
   "cell_type": "code",
   "execution_count": 35,
   "metadata": {},
   "outputs": [],
   "source": [
    "mcts_10.drop(\"Unnamed: 0\", axis=1, inplace=True)\n",
    "mcts_20.drop(\"Unnamed: 0\", axis=1, inplace=True)\n",
    "mcts_50.drop(\"Unnamed: 0\", axis=1, inplace=True)\n",
    "mcts_100.drop(\"Unnamed: 0\", axis=1, inplace=True)\n",
    "mcts_500.drop(\"Unnamed: 0\", axis=1, inplace=True)\n",
    "mcts_1000.drop(\"Unnamed: 0\", axis=1, inplace=True)\n",
    "combined_mcts.drop(\"Unnamed: 0\",axis=1,inplace=True)"
   ]
  },
  {
   "cell_type": "code",
   "execution_count": 36,
   "metadata": {},
   "outputs": [
    {
     "data": {
      "text/html": [
       "<div>\n",
       "<style scoped>\n",
       "    .dataframe tbody tr th:only-of-type {\n",
       "        vertical-align: middle;\n",
       "    }\n",
       "\n",
       "    .dataframe tbody tr th {\n",
       "        vertical-align: top;\n",
       "    }\n",
       "\n",
       "    .dataframe thead th {\n",
       "        text-align: right;\n",
       "    }\n",
       "</style>\n",
       "<table border=\"1\" class=\"dataframe\">\n",
       "  <thead>\n",
       "    <tr style=\"text-align: right;\">\n",
       "      <th></th>\n",
       "      <th>game_nr</th>\n",
       "      <th>num_iter</th>\n",
       "      <th>mcts_color</th>\n",
       "      <th>winner</th>\n",
       "    </tr>\n",
       "  </thead>\n",
       "  <tbody>\n",
       "    <tr>\n",
       "      <th>0</th>\n",
       "      <td>0</td>\n",
       "      <td>10</td>\n",
       "      <td>white (X)</td>\n",
       "      <td>white (X)</td>\n",
       "    </tr>\n",
       "    <tr>\n",
       "      <th>1</th>\n",
       "      <td>1</td>\n",
       "      <td>10</td>\n",
       "      <td>black (O)</td>\n",
       "      <td>black (O)</td>\n",
       "    </tr>\n",
       "    <tr>\n",
       "      <th>2</th>\n",
       "      <td>2</td>\n",
       "      <td>10</td>\n",
       "      <td>white (X)</td>\n",
       "      <td>NaN</td>\n",
       "    </tr>\n",
       "    <tr>\n",
       "      <th>3</th>\n",
       "      <td>3</td>\n",
       "      <td>10</td>\n",
       "      <td>black (O)</td>\n",
       "      <td>black (O)</td>\n",
       "    </tr>\n",
       "    <tr>\n",
       "      <th>4</th>\n",
       "      <td>4</td>\n",
       "      <td>10</td>\n",
       "      <td>white (X)</td>\n",
       "      <td>white (X)</td>\n",
       "    </tr>\n",
       "    <tr>\n",
       "      <th>...</th>\n",
       "      <td>...</td>\n",
       "      <td>...</td>\n",
       "      <td>...</td>\n",
       "      <td>...</td>\n",
       "    </tr>\n",
       "    <tr>\n",
       "      <th>95</th>\n",
       "      <td>95</td>\n",
       "      <td>1000</td>\n",
       "      <td>black (O)</td>\n",
       "      <td>white (X)</td>\n",
       "    </tr>\n",
       "    <tr>\n",
       "      <th>96</th>\n",
       "      <td>96</td>\n",
       "      <td>1000</td>\n",
       "      <td>white (X)</td>\n",
       "      <td>white (X)</td>\n",
       "    </tr>\n",
       "    <tr>\n",
       "      <th>97</th>\n",
       "      <td>97</td>\n",
       "      <td>1000</td>\n",
       "      <td>black (O)</td>\n",
       "      <td>black (O)</td>\n",
       "    </tr>\n",
       "    <tr>\n",
       "      <th>98</th>\n",
       "      <td>98</td>\n",
       "      <td>1000</td>\n",
       "      <td>white (X)</td>\n",
       "      <td>white (X)</td>\n",
       "    </tr>\n",
       "    <tr>\n",
       "      <th>99</th>\n",
       "      <td>99</td>\n",
       "      <td>1000</td>\n",
       "      <td>black (O)</td>\n",
       "      <td>black (O)</td>\n",
       "    </tr>\n",
       "  </tbody>\n",
       "</table>\n",
       "<p>600 rows × 4 columns</p>\n",
       "</div>"
      ],
      "text/plain": [
       "    game_nr  num_iter mcts_color     winner\n",
       "0         0        10  white (X)  white (X)\n",
       "1         1        10  black (O)  black (O)\n",
       "2         2        10  white (X)        NaN\n",
       "3         3        10  black (O)  black (O)\n",
       "4         4        10  white (X)  white (X)\n",
       "..      ...       ...        ...        ...\n",
       "95       95      1000  black (O)  white (X)\n",
       "96       96      1000  white (X)  white (X)\n",
       "97       97      1000  black (O)  black (O)\n",
       "98       98      1000  white (X)  white (X)\n",
       "99       99      1000  black (O)  black (O)\n",
       "\n",
       "[600 rows x 4 columns]"
      ]
     },
     "execution_count": 36,
     "metadata": {},
     "output_type": "execute_result"
    }
   ],
   "source": [
    "combined_mcts"
   ]
  },
  {
   "cell_type": "code",
   "execution_count": 8,
   "metadata": {},
   "outputs": [
    {
     "data": {
      "text/html": [
       "<div>\n",
       "<style scoped>\n",
       "    .dataframe tbody tr th:only-of-type {\n",
       "        vertical-align: middle;\n",
       "    }\n",
       "\n",
       "    .dataframe tbody tr th {\n",
       "        vertical-align: top;\n",
       "    }\n",
       "\n",
       "    .dataframe thead th {\n",
       "        text-align: right;\n",
       "    }\n",
       "</style>\n",
       "<table border=\"1\" class=\"dataframe\">\n",
       "  <thead>\n",
       "    <tr style=\"text-align: right;\">\n",
       "      <th></th>\n",
       "      <th>game_nr</th>\n",
       "      <th>num_iter</th>\n",
       "      <th>mcts_color</th>\n",
       "      <th>winner</th>\n",
       "    </tr>\n",
       "  </thead>\n",
       "  <tbody>\n",
       "    <tr>\n",
       "      <th>0</th>\n",
       "      <td>0</td>\n",
       "      <td>10</td>\n",
       "      <td>white (X)</td>\n",
       "      <td>white (X)</td>\n",
       "    </tr>\n",
       "    <tr>\n",
       "      <th>1</th>\n",
       "      <td>1</td>\n",
       "      <td>10</td>\n",
       "      <td>black (O)</td>\n",
       "      <td>black (O)</td>\n",
       "    </tr>\n",
       "    <tr>\n",
       "      <th>2</th>\n",
       "      <td>2</td>\n",
       "      <td>10</td>\n",
       "      <td>white (X)</td>\n",
       "      <td>NaN</td>\n",
       "    </tr>\n",
       "    <tr>\n",
       "      <th>3</th>\n",
       "      <td>3</td>\n",
       "      <td>10</td>\n",
       "      <td>black (O)</td>\n",
       "      <td>black (O)</td>\n",
       "    </tr>\n",
       "    <tr>\n",
       "      <th>4</th>\n",
       "      <td>4</td>\n",
       "      <td>10</td>\n",
       "      <td>white (X)</td>\n",
       "      <td>white (X)</td>\n",
       "    </tr>\n",
       "    <tr>\n",
       "      <th>...</th>\n",
       "      <td>...</td>\n",
       "      <td>...</td>\n",
       "      <td>...</td>\n",
       "      <td>...</td>\n",
       "    </tr>\n",
       "    <tr>\n",
       "      <th>95</th>\n",
       "      <td>95</td>\n",
       "      <td>10</td>\n",
       "      <td>black (O)</td>\n",
       "      <td>NaN</td>\n",
       "    </tr>\n",
       "    <tr>\n",
       "      <th>96</th>\n",
       "      <td>96</td>\n",
       "      <td>10</td>\n",
       "      <td>white (X)</td>\n",
       "      <td>white (X)</td>\n",
       "    </tr>\n",
       "    <tr>\n",
       "      <th>97</th>\n",
       "      <td>97</td>\n",
       "      <td>10</td>\n",
       "      <td>black (O)</td>\n",
       "      <td>NaN</td>\n",
       "    </tr>\n",
       "    <tr>\n",
       "      <th>98</th>\n",
       "      <td>98</td>\n",
       "      <td>10</td>\n",
       "      <td>white (X)</td>\n",
       "      <td>white (X)</td>\n",
       "    </tr>\n",
       "    <tr>\n",
       "      <th>99</th>\n",
       "      <td>99</td>\n",
       "      <td>10</td>\n",
       "      <td>black (O)</td>\n",
       "      <td>white (X)</td>\n",
       "    </tr>\n",
       "  </tbody>\n",
       "</table>\n",
       "<p>100 rows × 4 columns</p>\n",
       "</div>"
      ],
      "text/plain": [
       "    game_nr  num_iter mcts_color     winner\n",
       "0         0        10  white (X)  white (X)\n",
       "1         1        10  black (O)  black (O)\n",
       "2         2        10  white (X)        NaN\n",
       "3         3        10  black (O)  black (O)\n",
       "4         4        10  white (X)  white (X)\n",
       "..      ...       ...        ...        ...\n",
       "95       95        10  black (O)        NaN\n",
       "96       96        10  white (X)  white (X)\n",
       "97       97        10  black (O)        NaN\n",
       "98       98        10  white (X)  white (X)\n",
       "99       99        10  black (O)  white (X)\n",
       "\n",
       "[100 rows x 4 columns]"
      ]
     },
     "execution_count": 8,
     "metadata": {},
     "output_type": "execute_result"
    }
   ],
   "source": [
    "mcts_10"
   ]
  },
  {
   "cell_type": "code",
   "execution_count": 9,
   "metadata": {},
   "outputs": [
    {
     "data": {
      "text/plain": [
       "11"
      ]
     },
     "execution_count": 9,
     "metadata": {},
     "output_type": "execute_result"
    }
   ],
   "source": [
    "mcts_1000[\"winner\"].isna().sum()"
   ]
  },
  {
   "cell_type": "code",
   "execution_count": 10,
   "metadata": {},
   "outputs": [
    {
     "name": "stdout",
     "output_type": "stream",
     "text": [
      "The MCTS_10 has won 48 out of 100 games against Baseline Model.\n",
      "The MCTS_10 has tied 20 out of 100 games against Baseline Model.\n",
      "The MCTS_10 has lost 32 out of 100 games against Baseline Model.\n"
     ]
    }
   ],
   "source": [
    "mcts_10_wins = mcts_10[mcts_10[\"winner\"] == mcts_10[\"mcts_color\"]].value_counts()\n",
    "mcts_10_draws = mcts_10[\"winner\"].isna().sum()\n",
    "mcts_10_losses = mcts_10[mcts_10[\"winner\"] != mcts_10[\"mcts_color\"]].value_counts()\n",
    "\n",
    "print(f\"The MCTS_10 has won {mcts_10_wins.shape[0]} out of 100 games against Baseline Model.\")\n",
    "print(f\"The MCTS_10 has tied {mcts_10_draws} out of 100 games against Baseline Model.\")\n",
    "print(f\"The MCTS_10 has lost {mcts_10_losses.shape[0]} out of 100 games against Baseline Model.\")"
   ]
  },
  {
   "cell_type": "code",
   "execution_count": 11,
   "metadata": {},
   "outputs": [
    {
     "name": "stdout",
     "output_type": "stream",
     "text": [
      "The MCTS_20 has won 57 out of 100 games against Baseline Model.\n",
      "The MCTS_20 has tied 25 out of 100 games against Baseline Model.\n",
      "The MCTS_20 has lost 18 out of 100 games against Baseline Model.\n"
     ]
    }
   ],
   "source": [
    "mcts_20_wins = mcts_20[mcts_20[\"winner\"] == mcts_20[\"mcts_color\"]].value_counts()\n",
    "mcts_20_draws = mcts_20[\"winner\"].isna().sum()\n",
    "mcts_20_losses = mcts_20[mcts_20[\"winner\"] != mcts_20[\"mcts_color\"]].value_counts()\n",
    "\n",
    "print(f\"The MCTS_20 has won {mcts_20_wins.shape[0]} out of 100 games against Baseline Model.\")\n",
    "print(f\"The MCTS_20 has tied {mcts_20_draws} out of 100 games against Baseline Model.\")\n",
    "print(f\"The MCTS_20 has lost {mcts_20_losses.shape[0]} out of 100 games against Baseline Model.\")"
   ]
  },
  {
   "cell_type": "code",
   "execution_count": 12,
   "metadata": {},
   "outputs": [
    {
     "name": "stdout",
     "output_type": "stream",
     "text": [
      "The MCTS_50 has won 54 out of 100 games against Baseline Model.\n",
      "The MCTS_50 has tied 31 out of 100 games against Baseline Model.\n",
      "The MCTS_50 has lost 15 out of 100 games against Baseline Model.\n"
     ]
    }
   ],
   "source": [
    "mcts_50_wins = mcts_50[mcts_50[\"winner\"] == mcts_50[\"mcts_color\"]].value_counts()\n",
    "mcts_50_draws = mcts_50[\"winner\"].isna().sum()\n",
    "mcts_50_losses = mcts_50[mcts_50[\"winner\"] != mcts_50[\"mcts_color\"]].value_counts()\n",
    "\n",
    "print(f\"The MCTS_50 has won {mcts_50_wins.shape[0]} out of 100 games against Baseline Model.\")\n",
    "print(f\"The MCTS_50 has tied {mcts_50_draws} out of 100 games against Baseline Model.\")\n",
    "print(f\"The MCTS_50 has lost {mcts_50_losses.shape[0]} out of 100 games against Baseline Model.\")"
   ]
  },
  {
   "cell_type": "code",
   "execution_count": 13,
   "metadata": {},
   "outputs": [
    {
     "name": "stdout",
     "output_type": "stream",
     "text": [
      "The MCTS_100 has won 73 out of 100 games against Baseline Model.\n",
      "The MCTS_100 has tied 18 out of 100 games against Baseline Model.\n",
      "The MCTS_100 has lost 9 out of 100 games against Baseline Model.\n"
     ]
    }
   ],
   "source": [
    "mcts_100_wins = mcts_100[mcts_100[\"winner\"] == mcts_100[\"mcts_color\"]].value_counts()\n",
    "mcts_100_draws = mcts_100[\"winner\"].isna().sum()\n",
    "mcts_100_losses = mcts_100[mcts_100[\"winner\"] != mcts_100[\"mcts_color\"]].value_counts()\n",
    "\n",
    "print(f\"The MCTS_100 has won {mcts_100_wins.shape[0]} out of 100 games against Baseline Model.\")\n",
    "print(f\"The MCTS_100 has tied {mcts_100_draws} out of 100 games against Baseline Model.\")\n",
    "print(f\"The MCTS_100 has lost {mcts_100_losses.shape[0]} out of 100 games against Baseline Model.\")"
   ]
  },
  {
   "cell_type": "code",
   "execution_count": 14,
   "metadata": {},
   "outputs": [
    {
     "name": "stdout",
     "output_type": "stream",
     "text": [
      "The MCTS_500 has won 79 out of 100 games against Baseline Model.\n",
      "The MCTS_500 has tied 14 out of 100 games against Baseline Model.\n",
      "The MCTS_500 has lost 7 out of 100 games against Baseline Model.\n"
     ]
    }
   ],
   "source": [
    "mcts_500_wins = mcts_500[mcts_500[\"winner\"] == mcts_500[\"mcts_color\"]].value_counts()\n",
    "mcts_500_draws = mcts_500[\"winner\"].isna().sum()\n",
    "mcts_500_losses = mcts_500[mcts_500[\"winner\"] != mcts_500[\"mcts_color\"]].value_counts()\n",
    "\n",
    "print(f\"The MCTS_500 has won {mcts_500_wins.shape[0]} out of 100 games against Baseline Model.\")\n",
    "print(f\"The MCTS_500 has tied {mcts_500_draws} out of 100 games against Baseline Model.\")\n",
    "print(f\"The MCTS_500 has lost {mcts_500_losses.shape[0]} out of 100 games against Baseline Model.\")"
   ]
  },
  {
   "cell_type": "code",
   "execution_count": 15,
   "metadata": {},
   "outputs": [
    {
     "name": "stdout",
     "output_type": "stream",
     "text": [
      "The MCTS_1000 has won 81 out of 100 games against Baseline Model.\n",
      "The MCTS_1000 has tied 11 out of 100 games against Baseline Model.\n",
      "The MCTS_1000 has lost 8 out of 100 games against Baseline Model.\n"
     ]
    }
   ],
   "source": [
    "mcts_1000_wins = mcts_1000[mcts_1000[\"winner\"] == mcts_1000[\"mcts_color\"]].value_counts()\n",
    "mcts_1000_draws = mcts_1000[\"winner\"].isna().sum()\n",
    "mcts_1000_losses = mcts_1000[mcts_1000[\"winner\"] != mcts_1000[\"mcts_color\"]].value_counts()\n",
    "\n",
    "print(f\"The MCTS_1000 has won {mcts_1000_wins.shape[0]} out of 100 games against Baseline Model.\")\n",
    "print(f\"The MCTS_1000 has tied {mcts_1000_draws} out of 100 games against Baseline Model.\")\n",
    "print(f\"The MCTS_1000 has lost {mcts_1000_losses.shape[0]} out of 100 games against Baseline Model.\")"
   ]
  },
  {
   "cell_type": "code",
   "execution_count": null,
   "metadata": {},
   "outputs": [],
   "source": [
    "mcts"
   ]
  },
  {
   "cell_type": "code",
   "execution_count": 43,
   "metadata": {},
   "outputs": [],
   "source": [
    "filtered_data = combined_mcts[combined_mcts[\"winner\"] == combined_mcts[\"mcts_color\"]]\n"
   ]
  },
  {
   "cell_type": "code",
   "execution_count": 45,
   "metadata": {},
   "outputs": [
    {
     "data": {
      "text/html": [
       "<div>\n",
       "<style scoped>\n",
       "    .dataframe tbody tr th:only-of-type {\n",
       "        vertical-align: middle;\n",
       "    }\n",
       "\n",
       "    .dataframe tbody tr th {\n",
       "        vertical-align: top;\n",
       "    }\n",
       "\n",
       "    .dataframe thead th {\n",
       "        text-align: right;\n",
       "    }\n",
       "</style>\n",
       "<table border=\"1\" class=\"dataframe\">\n",
       "  <thead>\n",
       "    <tr style=\"text-align: right;\">\n",
       "      <th></th>\n",
       "      <th>game_nr</th>\n",
       "      <th>num_iter</th>\n",
       "      <th>mcts_color</th>\n",
       "      <th>winner</th>\n",
       "    </tr>\n",
       "  </thead>\n",
       "  <tbody>\n",
       "    <tr>\n",
       "      <th>0</th>\n",
       "      <td>0</td>\n",
       "      <td>10</td>\n",
       "      <td>white (X)</td>\n",
       "      <td>white (X)</td>\n",
       "    </tr>\n",
       "    <tr>\n",
       "      <th>1</th>\n",
       "      <td>1</td>\n",
       "      <td>10</td>\n",
       "      <td>black (O)</td>\n",
       "      <td>black (O)</td>\n",
       "    </tr>\n",
       "    <tr>\n",
       "      <th>3</th>\n",
       "      <td>3</td>\n",
       "      <td>10</td>\n",
       "      <td>black (O)</td>\n",
       "      <td>black (O)</td>\n",
       "    </tr>\n",
       "    <tr>\n",
       "      <th>4</th>\n",
       "      <td>4</td>\n",
       "      <td>10</td>\n",
       "      <td>white (X)</td>\n",
       "      <td>white (X)</td>\n",
       "    </tr>\n",
       "    <tr>\n",
       "      <th>5</th>\n",
       "      <td>5</td>\n",
       "      <td>10</td>\n",
       "      <td>black (O)</td>\n",
       "      <td>black (O)</td>\n",
       "    </tr>\n",
       "  </tbody>\n",
       "</table>\n",
       "</div>"
      ],
      "text/plain": [
       "   game_nr  num_iter mcts_color     winner\n",
       "0        0        10  white (X)  white (X)\n",
       "1        1        10  black (O)  black (O)\n",
       "3        3        10  black (O)  black (O)\n",
       "4        4        10  white (X)  white (X)\n",
       "5        5        10  black (O)  black (O)"
      ]
     },
     "execution_count": 45,
     "metadata": {},
     "output_type": "execute_result"
    }
   ],
   "source": [
    "filtered_data.head()"
   ]
  },
  {
   "cell_type": "code",
   "execution_count": 61,
   "metadata": {},
   "outputs": [],
   "source": [
    "win_data = combined_mcts[(combined_mcts[\"mcts_color\"] == combined_mcts[\"winner\"]) & ~combined_mcts[\"winner\"].isna()]\n",
    "loss_data = combined_mcts[(combined_mcts[\"mcts_color\"] != combined_mcts[\"winner\"]) & ~combined_mcts[\"winner\"].isna()]\n",
    "draw_data = combined_mcts[combined_mcts[\"winner\"].isna()]\n",
    "\n"
   ]
  },
  {
   "cell_type": "code",
   "execution_count": 64,
   "metadata": {},
   "outputs": [
    {
     "data": {
      "image/png": "[encoded data removed]",
      "text/plain": [
       "<Figure size 640x480 with 1 Axes>"
      ]
     },
     "metadata": {},
     "output_type": "display_data"
    }
   ],
   "source": [
    "\n",
    "# Create a new DataFrame for plotting\n",
    "plot_data = pd.DataFrame({\n",
    "    'num_iter': combined_mcts['num_iter'].unique(),\n",
    "    'Win': win_data.groupby('num_iter').size(),\n",
    "    'Loss': loss_data.groupby('num_iter').size(),\n",
    "    'Draw': draw_data.groupby('num_iter').size().fillna(0)\n",
    "})\n",
    "\n",
    "# Melt the DataFrame for Seaborn\n",
    "plot_data_melted = pd.melt(plot_data, id_vars='num_iter', var_name='Outcome', value_name='Count')\n",
    "\n",
    "# Create a bar plot\n",
    "sns.barplot(data=plot_data_melted, x='num_iter', y='Count', hue='Outcome')\n",
    "\n",
    "# Set plot labels and title\n",
    "plt.xlabel('Iterations')\n",
    "plt.ylabel('Count')\n",
    "plt.title('Outcome Counts for Different Iterations')\n",
    "\n",
    "# Show the plot\n",
    "plt.show()"
   ]
  },
  {
   "cell_type": "code",
   "execution_count": null,
   "metadata": {},
   "outputs": [],
   "source": [
    "\n",
    "\n"
   ]
  },
  {
   "cell_type": "code",
   "execution_count": null,
   "metadata": {},
   "outputs": [],
   "source": []
  }
 ],
 "metadata": {
  "kernelspec": {
   "display_name": "ds-uttt",
   "language": "python",
   "name": "python3"
  },
  "language_info": {
   "codemirror_mode": {
    "name": "ipython",
    "version": 3
   },
   "file_extension": ".py",
   "mimetype": "text/x-python",
   "name": "python",
   "nbconvert_exporter": "python",
   "pygments_lexer": "ipython3",
   "version": "3.11.5"
  }
 },
 "nbformat": 4,
 "nbformat_minor": 2
}
